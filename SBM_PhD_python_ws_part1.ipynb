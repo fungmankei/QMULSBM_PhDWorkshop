{
  "nbformat": 4,
  "nbformat_minor": 0,
  "metadata": {
    "colab": {
      "name": "SBM_PhD_python_ws_part1.ipynb",
      "provenance": [],
      "collapsed_sections": [],
      "toc_visible": true
    },
    "kernelspec": {
      "name": "python3",
      "display_name": "Python 3"
    },
    "language_info": {
      "name": "python"
    }
  },
  "cells": [
    {
      "cell_type": "markdown",
      "source": [
        "# QMUL SBM PHD Python Workshop \n",
        "## Introduction to Python Programming\n",
        "\n",
        "This is the first part of the PhD Workshop on [Python](https://www.python.org/) programming. In this session, we will introduce the basics of programming with Python, in which we will look at variable assignments and different data types (numerical, text, list, and tuples). In the following sessions we will work on extracting and cleaning data and processing textual data with natural language processing techniques.\n",
        "\n",
        "The first set of computer lab tutorials on Python programming follows the structure and organisation of McKinney, W. 2017. Python for Data Analysis, 2nd Edition, O'Reilly, but there are many equally good online resources. We might also cover web scraping if the time permits.\n",
        "\n",
        "## Install Python and Jupyter Notebook on Your Personal Computers\n",
        "\n",
        "You can install Python and Jupyter Notebook by downloading the most recent stable version of the [Anaconda](https://www.anaconda.com/products/individual) distribution, which can be downloaded from the provided link. Different interpreters and development environments can be used with Python. We will use the [Jupyter Notebook](https://jupyter.org/), which is a web browser based application that allows you to run and to insert text, equations, and graphics. These can be directly opened on Google Colab.\n",
        "\n",
        "After installation, you can open a Jupyter notebook into which you can write code and execute. Follow the steps on [Jupyter Notebook website](https://jupyter-notebook-beginner-guide.readthedocs.io/en/latest/execute.html) for operating system specific instructions, which involves running `jupyter notebook` in a terminal. You can `rename` and `save` notebooks from the `File` menu.\n",
        "\n",
        "## Markdown and Code Cells\n",
        "\n",
        "You can insert **code** and **markdown** cells into Jupyter notebooks. Code cells are for typing and running Python code. Markdown cells are for the text content and organizing and formatting documents. \n",
        "\n",
        "You can add section titles by `#`, `##`, `###`, you can create numbered and bullet lists by starting the line with the corresponding marker, e.g. `1.`,`2.`, `3.`. You can format text for instance by `*italic_text*` and `**bold_text**`. Visit [Markdown Guide](https://www.markdownguide.org/) for further details.  \n",
        "\n",
        "You can change the cell type from the drop-down menu at the top or choose the cell and press the keys <kbd>y</kbd> and <kbd>m</kbd> for the code and the markdown cells, respectively. In Google Colab, you need to press <kbd>ctrl</kbd> + <kbd>m</kbd> + <kbd>y</kbd> and <kbd>ctrl</kbd> + <kbd>m</kbd> + <kbd>m</kbd>, respectively.\n",
        "\n",
        "Python is an interpreted language, meaning that you can freely execute different segments of code (which are cells on Jupyter notebooks) without the need to compile it first to the machine code. This reduces the development time and facilitates experimentation with data in an interactive way but slows down execution, especially for computationally intensive tasks. This is why most heavy computations are implemented in other languages C and C++, which is then wrapped in Python. \n",
        "\n",
        "If you click on *Run* or hit <kbd>shift</kbd>+<kbd>enter</kbd>  (also <kbd>ctrl</kbd>+<kbd>enter</kbd> in Jupyter notebook) shortcuts, it runs the selected cell (more options under *Cell*).  \n",
        "\n",
        "## Getting Started\n",
        "\n",
        "We shall now start using Python as a simple calculator. You can use the operators `+` (add), `-` (substract), `*` (multiply), `/` (divide), `**` (power), `%` (modulus) in *expressions*. For instance:"
      ],
      "metadata": {
        "id": "el1q_hmVNDT8"
      }
    },
    {
      "cell_type": "code",
      "source": [
        "# Calculate (3 - 5 * 1.8) / 1.2\n",
        "__3 __ 5 __ 1.8 __ 1.2"
      ],
      "metadata": {
        "id": "Bx4GOe34UA7H"
      },
      "execution_count": null,
      "outputs": []
    },
    {
      "cell_type": "markdown",
      "source": [
        "### Variable Assignment\n",
        "\n",
        "Assign the outcome of an expression on the right of the equation to the variable. "
      ],
      "metadata": {
        "id": "Pl8R4BDgUKHp"
      }
    },
    {
      "cell_type": "code",
      "source": [
        "# Assign square of 3 to x\n",
        "x = __"
      ],
      "metadata": {
        "id": "m8-OoJsXUM0e"
      },
      "execution_count": null,
      "outputs": []
    },
    {
      "cell_type": "markdown",
      "source": [
        "You can print the value of the variable `x` by simply running `x` or `print(x)`. `print()` is the first *function* we are seeing and using. A function is a block of code that takes inputs through its arguments, performs some taks, and potentially returns a value at the end."
      ],
      "metadata": {
        "id": "q8iJtTkoUPPB"
      }
    },
    {
      "cell_type": "code",
      "source": [
        "print(__)"
      ],
      "metadata": {
        "id": "pSeTatzLUXGK"
      },
      "execution_count": null,
      "outputs": []
    },
    {
      "cell_type": "markdown",
      "source": [
        "Some dataypes such as integers, floating numbers, and strings are *immutable*, meaning that if you try to alter the value, Python basically creates a new object with the same name.\n",
        "\n",
        "Check what results you expect to see:"
      ],
      "metadata": {
        "id": "NZR36EwHUivD"
      }
    },
    {
      "cell_type": "code",
      "source": [
        "x = 10\n",
        "y = x \n",
        "x *= 2 #This is called augmented assignment and it is equivalent to x = x * 2\n",
        "print('x:', x, ',y:', y) #You can print multiple values by putting a comma in between "
      ],
      "metadata": {
        "id": "BWEzxDQ4UrFD"
      },
      "execution_count": null,
      "outputs": []
    },
    {
      "cell_type": "markdown",
      "source": [
        "## Data Types\n",
        "\n",
        "Python has several built-in data types and you can define new types by creating classes. A thorough coverage of object-oriented programming is beyond the scope of this workshop. \n",
        "\n",
        "You can learn the type of an object by calling the `type` function. Here we focus on the most fundamental data types. \n",
        "\n",
        "### Numeric Data Types\n",
        "The numeric data is held as integers (`int`) and floating numbers (`float`). "
      ],
      "metadata": {
        "id": "RJyqHdzQN-z1"
      }
    },
    {
      "cell_type": "code",
      "source": [
        "x = 1\n",
        "y = 2.8\n",
        "# Print the types of the variables x and y\n",
        "print(__(x), __(y), __(x + y)) "
      ],
      "metadata": {
        "id": "CROQfel-Vc49"
      },
      "execution_count": null,
      "outputs": []
    },
    {
      "cell_type": "markdown",
      "source": [
        "For numerical computations, the most commonly used Python package (library) is `numpy`, which most importantly provides a collection of mathematical functions and the `array` type (`ndarray`). We will look at `numpy` in more detail later but we shall now illustrate how it is used. For using functions or classes from a package, you should first `import` the package."
      ],
      "metadata": {
        "id": "CkkS68EkVreC"
      }
    },
    {
      "cell_type": "code",
      "source": [
        "import numpy as np # np is an alias for numpy, which we will use to access numpy functions"
      ],
      "metadata": {
        "id": "22O3ag__VtgJ"
      },
      "execution_count": null,
      "outputs": []
    },
    {
      "cell_type": "markdown",
      "source": [
        "We can now call the functions and constants from the `numpy` package by for instance`np.sqrt()`."
      ],
      "metadata": {
        "id": "Abr4kmfZV1bx"
      }
    },
    {
      "cell_type": "code",
      "source": [
        "# Print the result of the expression pi + sqrt(3)\n",
        "print(__.__+__.__(3))"
      ],
      "metadata": {
        "id": "fAxeJOmeVvst"
      },
      "execution_count": null,
      "outputs": []
    },
    {
      "cell_type": "markdown",
      "source": [
        "### Text Data Type\n",
        "\n",
        "The text data type in Python is `str`, which is immutable but iterable. You define a `str` by using `''` or `\"\"`. "
      ],
      "metadata": {
        "id": "lA7YPI13aM03"
      }
    },
    {
      "cell_type": "code",
      "source": [
        "# Assign your first name and last name to the respective variables\n",
        "first_name = __\n",
        "last_name = __"
      ],
      "metadata": {
        "id": "q9fSdV2BaOcB"
      },
      "execution_count": null,
      "outputs": []
    },
    {
      "cell_type": "markdown",
      "source": [
        "You can concatenate `str` objects by `+`: "
      ],
      "metadata": {
        "id": "eRNcMPNXaRT1"
      }
    },
    {
      "cell_type": "code",
      "source": [
        "# Create your full name variable\n",
        "name = first_name __ ' ' __ last_name\n",
        "# Print your full name:\n",
        "__"
      ],
      "metadata": {
        "id": "3ffS-w6vaSFH"
      },
      "execution_count": null,
      "outputs": []
    },
    {
      "cell_type": "markdown",
      "source": [
        "You can access the individual characters in your string variable, because it is iterable. Python is zero-indexed, meaning that the index of the first, second, third elements are 0, 1, 2, .... The subscripting is done by `x[n]`, which returns the fourth element of the iterable x. "
      ],
      "metadata": {
        "id": "_lclO3EyaUB3"
      }
    },
    {
      "cell_type": "code",
      "source": [
        "# Print the second letter of your name\n",
        "name[__]"
      ],
      "metadata": {
        "id": "4CTCHmiyaV85"
      },
      "execution_count": null,
      "outputs": []
    },
    {
      "cell_type": "markdown",
      "source": [
        "The last element can be accessed by -1 and you can go backwards by -1, -2, -3, etc."
      ],
      "metadata": {
        "id": "xw2nmupWaYDf"
      }
    },
    {
      "cell_type": "code",
      "source": [
        "# Print the first two and last two letters of your name, \n",
        "print(__,__,__,__)"
      ],
      "metadata": {
        "id": "KJt2QwA9aaN4"
      },
      "execution_count": null,
      "outputs": []
    },
    {
      "cell_type": "markdown",
      "source": [
        "You can *slice* the string by giving the first (inclusive) and last (exclusive) indices from which to slice. For instance, `x[1:4]` returns the x elements in indices 1, 2, and 3.  "
      ],
      "metadata": {
        "id": "TrGo3iRhahdQ"
      }
    },
    {
      "cell_type": "code",
      "source": [
        "# Return the second to fourth letters of your name, including both\n",
        "__"
      ],
      "metadata": {
        "id": "pxHb4WPHamDv"
      },
      "execution_count": null,
      "outputs": []
    },
    {
      "cell_type": "markdown",
      "source": [
        "Note that you cannot change this value because `str` objects are immutable."
      ],
      "metadata": {
        "id": "T2ofAQxDapSj"
      }
    },
    {
      "cell_type": "code",
      "source": [
        "# Try the following\n",
        "name[3] = 'z'"
      ],
      "metadata": {
        "id": "KpdTU4RmaqJp"
      },
      "execution_count": null,
      "outputs": []
    },
    {
      "cell_type": "markdown",
      "source": [
        "You can get the length of a `str` object (and any iterable) by calling the `len()` function:"
      ],
      "metadata": {
        "id": "upuJTogLauqh"
      }
    },
    {
      "cell_type": "code",
      "source": [
        "# Print the number of letters in your name\n",
        "__"
      ],
      "metadata": {
        "id": "BzazGrd2awAy"
      },
      "execution_count": null,
      "outputs": []
    },
    {
      "cell_type": "markdown",
      "source": [
        "#### Str Methods\n",
        "When you create a string object, it comes equipped with a set of methods. Some useful methods are as follows. You can get a list of the methods by `dir(str)`\n",
        "- `split`: splits the string into words separated by whitespace\n",
        "- `count`: counts the appearance of provided substring in the string\n",
        "- `find`: returns the first instance of the substring\n",
        "- `isalpha`: returns `True` if all alphabetical letters, `False` otherwise\n",
        "- `isdigit`: returns `True` is all digits, `False` otherwise\n",
        "- `lower` (`upper`): change all letters to lower character\n",
        "- `replace`: replace all instances of the substring to the new substring \n",
        "- `join`: if you have a series of objects you can join them by the provided string"
      ],
      "metadata": {
        "id": "ocxuxXXmax9f"
      }
    },
    {
      "cell_type": "code",
      "source": [
        "sentence = \"We have all been looking forward to this day\"\n",
        "# split the sentence to a list of words\n",
        "words = __\n",
        "#print words\n",
        "__"
      ],
      "metadata": {
        "id": "rRNAPPUDa8fP"
      },
      "execution_count": null,
      "outputs": []
    },
    {
      "cell_type": "code",
      "source": [
        "# Count the number of instances of the phrases 'THE' / 'the' / 'tHe' ... and also the start index of the first instance\n",
        "text = \"instances of THE, while the first starts at index\"\n",
        "print('counts of \"the\" ', __, ' - first \"the\" starts at index: ', __)"
      ],
      "metadata": {
        "id": "OitLouTda-UH"
      },
      "execution_count": null,
      "outputs": []
    },
    {
      "cell_type": "markdown",
      "source": [
        "## LIST\n",
        "\n",
        "List is a sequence data type and provides an iterable collection of individual elements. You can create a list of any objects you want. For instance, a list of numbers, a list of strings, a list of numbers and strings mixed, list of lists, list of functions, and basically list of any objects."
      ],
      "metadata": {
        "id": "NUFj4eobbLvo"
      }
    },
    {
      "cell_type": "code",
      "source": [
        "# list of integers 2, 7, 9\n",
        "first_list = [2,7,9] \n",
        "# print the list\n",
        "__"
      ],
      "metadata": {
        "id": "sj2m2_AJbM_G"
      },
      "execution_count": null,
      "outputs": []
    },
    {
      "cell_type": "code",
      "source": [
        "# create a list of strings 'apple' and 'orange'\n",
        "second_list = __\n",
        "# print the list \n",
        "__"
      ],
      "metadata": {
        "id": "3yOEatGnbQBe"
      },
      "execution_count": null,
      "outputs": []
    },
    {
      "cell_type": "markdown",
      "source": [
        "Empty list is created by `x = []`, which might be needed if you populate a list through a loop."
      ],
      "metadata": {
        "id": "Ku_TdzqVbSTI"
      }
    },
    {
      "cell_type": "code",
      "source": [
        "x = [] #empty list"
      ],
      "metadata": {
        "id": "GlVTZTaibVIk"
      },
      "execution_count": null,
      "outputs": []
    },
    {
      "cell_type": "markdown",
      "source": [
        "You can concatenate lists by using `+`. Note the data types of elements are not affected."
      ],
      "metadata": {
        "id": "1J50QxBPbXw-"
      }
    },
    {
      "cell_type": "code",
      "source": [
        "# Append second_list to the end of the first_list\n",
        "__ __ __"
      ],
      "metadata": {
        "id": "_HBqbJQebZ-K"
      },
      "execution_count": null,
      "outputs": []
    },
    {
      "cell_type": "markdown",
      "source": [
        "You can convert other data types to list by the `list()` function, which is useful in some instances."
      ],
      "metadata": {
        "id": "TSiM_3LRbdL4"
      }
    },
    {
      "cell_type": "code",
      "source": [
        "my_string = __\n",
        "# Create a list of characters in my_string\n",
        "__"
      ],
      "metadata": {
        "id": "hYrvWigPbfkn"
      },
      "execution_count": null,
      "outputs": []
    },
    {
      "cell_type": "markdown",
      "source": [
        "Lists are iterable, which means you can index and slice lists as for strings"
      ],
      "metadata": {
        "id": "E_RaSyNfbib7"
      }
    },
    {
      "cell_type": "code",
      "source": [
        "x = [1, 4, \"three\", -2.8]\n",
        "# Subscript the element in index 2\n",
        "__"
      ],
      "metadata": {
        "id": "yd9em7BrbjMw"
      },
      "execution_count": null,
      "outputs": []
    },
    {
      "cell_type": "code",
      "source": [
        "# Slice the list of all elements except the last one\n",
        "x[__]"
      ],
      "metadata": {
        "id": "vy661j1Qblrx"
      },
      "execution_count": null,
      "outputs": []
    },
    {
      "cell_type": "markdown",
      "source": [
        "Lists are mutable, meaning you can change the values of individual elements, differently from strings and numerical basic datatypes."
      ],
      "metadata": {
        "id": "Jp3HVYrobpCv"
      }
    },
    {
      "cell_type": "code",
      "source": [
        "# Change the value of \"three\" to 3\n",
        "__\n",
        "#Print x\n",
        "__"
      ],
      "metadata": {
        "id": "lSpFICb4bq1G"
      },
      "execution_count": null,
      "outputs": []
    },
    {
      "cell_type": "markdown",
      "source": [
        "### List Aliasing \n",
        "\n",
        "Lists are mutable and Python calls by object. When you assign one variable to another list, the two variables become alias for the same list object, also called deep copy. You must keep this in mind when working with lists. "
      ],
      "metadata": {
        "id": "m_cyyDTtbsin"
      }
    },
    {
      "cell_type": "code",
      "source": [
        "# What output do you expect from the following?\n",
        "x = [3, 6, 8]\n",
        "y = x\n",
        "y[2] = -1\n",
        "print(x, y)"
      ],
      "metadata": {
        "id": "CCTVjW1Hbvku"
      },
      "execution_count": null,
      "outputs": []
    },
    {
      "cell_type": "markdown",
      "source": [
        "If you want a shallow copy, you can use the `list()` function."
      ],
      "metadata": {
        "id": "Ma1s2FN3by1V"
      }
    },
    {
      "cell_type": "code",
      "source": [
        "# What output do you expect from the following?\n",
        "x = [3, 6, [1, 7, 2]]\n",
        "y = list(x)\n",
        "y[1] = -1\n",
        "print(x, y)"
      ],
      "metadata": {
        "id": "iKOW2GCyb0IC"
      },
      "execution_count": null,
      "outputs": []
    },
    {
      "cell_type": "markdown",
      "source": [
        "### List Methods\n",
        "There are various methods of lists for inserting, removing and sorting elements, which are mutator methods, meaning that they change the list object itself. You call the method `method1` of the object x by calling `x.method1()`.\n",
        "- `insert(ind, y)` inserts element `y` at index `ind` and shifts all consecutive items by one to the right\n",
        "- `append(y)` adds element `y` at the end of the list\n",
        "- `extend([y1, y2, y3])` append elements `y1`, `y2`, and `y3` at the end of the list\n",
        "- `pop(ind)` removes the element in index ind, remove the last element if no index provided\n",
        "- `sort()` sorts the list if it is sortable (numbers or strings)"
      ],
      "metadata": {
        "id": "_ouw7en6b3N4"
      }
    },
    {
      "cell_type": "code",
      "source": [
        "y = [-6, 2, 'python', 3.1, [1.2, 0]]\n",
        "y.insert(2, 'anaconda')\n",
        "# What output do you expect?\n",
        "y"
      ],
      "metadata": {
        "id": "-VGSJ-07b5wx"
      },
      "execution_count": null,
      "outputs": []
    },
    {
      "cell_type": "code",
      "source": [
        "# Add 'jupyter' at the end of the list\n",
        "__\n",
        "# Add [-2, 6] at the end of the list\n",
        "__\n",
        "# Remove the first (zeroth index) element\n",
        "__\n",
        "# Print y\n",
        "__"
      ],
      "metadata": {
        "id": "9NboIgW7b70G"
      },
      "execution_count": null,
      "outputs": []
    },
    {
      "cell_type": "code",
      "source": [
        "list1 = [-6, 7, 2]\n",
        "# Sort the elements\n",
        "__\n",
        "# Print list1\n",
        "__"
      ],
      "metadata": {
        "id": "5bP-5oYFb_AH"
      },
      "execution_count": null,
      "outputs": []
    },
    {
      "cell_type": "code",
      "source": [
        "# What output do you expect?\n",
        "list2 = [0, -2.2, 'accounting']\n",
        "list2.sort()"
      ],
      "metadata": {
        "id": "K1klSrxOcA7d"
      },
      "execution_count": null,
      "outputs": []
    },
    {
      "cell_type": "markdown",
      "source": [
        "## TUPLE\n",
        "A tuple is a fixed-length, immutable sequence of Python objects. It is very similar to list but cannot be altered. You can convert any sequence or iterable to tuple using `tuple()` (similar to `list()`). Elements can be accessed with square brackets [] as for other sequence types."
      ],
      "metadata": {
        "id": "VQnygdNzcFlu"
      }
    },
    {
      "cell_type": "code",
      "source": [
        "# Create a tuple\n",
        "tup = 1, 2, 3, 'a', None, [1, 6, 2]\n",
        "tup"
      ],
      "metadata": {
        "id": "NsW_Y_2-cG_2"
      },
      "execution_count": null,
      "outputs": []
    },
    {
      "cell_type": "code",
      "source": [
        "# Slice elements in indices 2  to 4 (inclusive)\n",
        "__"
      ],
      "metadata": {
        "id": "CbgJNxwUcJjJ"
      },
      "execution_count": null,
      "outputs": []
    },
    {
      "cell_type": "code",
      "source": [
        "# What do you expect?\n",
        "tup[-1] = 0\n",
        "tup"
      ],
      "metadata": {
        "id": "jM7qO6MQcKKp"
      },
      "execution_count": null,
      "outputs": []
    },
    {
      "cell_type": "code",
      "source": [
        "# What do you now expect?\n",
        "tup[-1][1] = -2\n",
        "tup"
      ],
      "metadata": {
        "id": "5paC0bavcMBj"
      },
      "execution_count": null,
      "outputs": []
    },
    {
      "cell_type": "markdown",
      "source": [
        "Tuples can be unpacked:"
      ],
      "metadata": {
        "id": "6O4-2MwCcPl5"
      }
    },
    {
      "cell_type": "code",
      "source": [
        "a = (-1, 1)\n",
        "x, y = a\n",
        "# What output do you expect?\n",
        "print(x, y)"
      ],
      "metadata": {
        "id": "_QvSerm5cRB1"
      },
      "execution_count": null,
      "outputs": []
    },
    {
      "cell_type": "markdown",
      "source": [
        "## SET\n",
        "A set is an unordered collection of unique elements. They can be created by the `set` constructor or using curly brackets {}. They are very handy because they allow set operations such as union, intersection, and difference.\n",
        "- Intersection of sets `a` and `b`: `a & b` or `a.intersection(b)`\n",
        "- Union of sets `a` and `b`: `a | b` or `a.union(b)`\n",
        "- Difference of set `a` from `b`: `a - b` or  `a.difference(b)`"
      ],
      "metadata": {
        "id": "Elhyzt9NcYip"
      }
    },
    {
      "cell_type": "code",
      "source": [
        "x = set([2, 2, 2, 1, 3, 3])\n",
        "y = {3, 'a', 6, 1, 'a'}\n",
        "# What outputs do you expect?\n",
        "print(x,y)"
      ],
      "metadata": {
        "id": "1JQW2sUVcbHm"
      },
      "execution_count": null,
      "outputs": []
    },
    {
      "cell_type": "code",
      "source": [
        "a = {0, 1, 2, 3, 4}\n",
        "b = set([3, 4, 5, 6, 7, 8])\n",
        "# Print union of a and b\n",
        "print(__)\n",
        "# Print intersection of a and b\n",
        "print(__)\n",
        "# Print difference of a from b\n",
        "print(__)"
      ],
      "metadata": {
        "id": "t73LtVTTcd5v"
      },
      "execution_count": null,
      "outputs": []
    },
    {
      "cell_type": "markdown",
      "source": [
        "## DICT\n",
        "\n",
        "The `dict` structures are dictionaries of **key-value** pairs, where key and value are Python objects. Dictionaries are critical for labelling objects, which provide for instance the basis of indices in tabular data (Pandas) as we will soon see. You can create a dictionary by putting in curly brackets {} the `key:value` pairs,  separated by commas.  \n",
        "For example, let's create a dictionary of profits (say in million pounds):"
      ],
      "metadata": {
        "id": "-0aYrahqcgY6"
      }
    },
    {
      "cell_type": "code",
      "source": [
        "firms = {\"firm A\": 2.68, \"firm B\": None, \"firm C\": 1.13}\n",
        "firms"
      ],
      "metadata": {
        "id": "mk4u_EP-ch5R"
      },
      "execution_count": null,
      "outputs": []
    },
    {
      "cell_type": "markdown",
      "source": [
        "You access values by key, i.e. `my_dict[key]`:"
      ],
      "metadata": {
        "id": "IGsi6avncgSR"
      }
    },
    {
      "cell_type": "code",
      "source": [
        "# What is the profit of firm A?\n",
        "__"
      ],
      "metadata": {
        "id": "tRLji4iocnNY"
      },
      "execution_count": null,
      "outputs": []
    },
    {
      "cell_type": "markdown",
      "source": [
        "You can insert new key-value pairs or update existing ones by assignment: `my_dict[key]=value`"
      ],
      "metadata": {
        "id": "nmbQdC0bcuzw"
      }
    },
    {
      "cell_type": "code",
      "source": [
        "# Decrease the profit entry of firm A by 0.13\n",
        "__\n",
        "\n",
        "# Insert new entry for firm D that has a profit of 3.0\n",
        "__\n",
        "\n",
        "# print firms dictionary\n",
        "__"
      ],
      "metadata": {
        "id": "7R2h9yD8cv7o"
      },
      "execution_count": null,
      "outputs": []
    },
    {
      "cell_type": "markdown",
      "source": [
        "You can remove elements using the `pop()` method as in lists."
      ],
      "metadata": {
        "id": "lUPBCONhczIw"
      }
    },
    {
      "cell_type": "code",
      "source": [
        "# Remove the firm B entry\n",
        "__\n",
        "\n",
        "# Print the dictionary\n",
        "__"
      ],
      "metadata": {
        "id": "Xzqw660bc3l8"
      },
      "execution_count": null,
      "outputs": []
    },
    {
      "cell_type": "markdown",
      "source": [
        "The `keys()` and `values()` methods return the keys and the values \n",
        "of the dictionary.\n",
        "\n"
      ],
      "metadata": {
        "id": "9vFHm0mOc4dE"
      }
    },
    {
      "cell_type": "code",
      "source": [
        "# Keys\n",
        "print(__)\n",
        "\n",
        "# Values\n",
        "print(__)"
      ],
      "metadata": {
        "id": "4m1zx49SdBFL"
      },
      "execution_count": null,
      "outputs": []
    },
    {
      "cell_type": "markdown",
      "source": [
        "You can pair up sequences with `zip` function to form dictionaries, i.e. `dict(zip(seq1, seq2))`:"
      ],
      "metadata": {
        "id": "NTPdX7RndEhU"
      }
    },
    {
      "cell_type": "code",
      "source": [
        "countries = ('UK', 'Spain', 'Italy', 'France') # keys\n",
        "capitals = ('London', 'Madrid', 'Rome', 'Paris') # values\n",
        "\n",
        "# Create a dict that returns capital for the country chosen\n",
        "my_dict = __\n",
        "# Print my_dict\n",
        "my_dict"
      ],
      "metadata": {
        "id": "rl0gqEbBdFGO"
      },
      "execution_count": null,
      "outputs": []
    }
  ]
}