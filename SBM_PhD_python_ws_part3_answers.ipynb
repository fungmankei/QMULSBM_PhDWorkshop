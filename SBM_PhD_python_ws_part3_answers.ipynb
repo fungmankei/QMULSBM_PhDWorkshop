{
 "cells": [
  {
   "cell_type": "markdown",
   "id": "b5178014",
   "metadata": {},
   "source": [
    "# QMUL SBM PHD Python Workshop - Part 3\n",
    "\n",
    "In this session, we will continue with functions and then Numpy and Pandas packages for numerical operations and working with tabular data, respectively. "
   ]
  },
  {
   "cell_type": "markdown",
   "id": "d3b5d361",
   "metadata": {},
   "source": [
    "## Functions\n",
    "Functions are crucial building blocks of programming, which eliminate redundancy and provide abstraction. If you repeat a certain code that solves a non-trivial task in different parts of your code, it is a good indication that you should introduce a function. Organizing your blocks of code into functions provides an abstraction, which makes it easier to understand your code. Furthermore, the maintenance of code is easier with functions. We have so far used several built-in functions, e.g. `print` function, or functions from other packages such as Numpy, e.g. `np.sqrt()`. The functions are called by providing their arguments, lists of which can be checked from the help.\n",
    "\n",
    "We can also define our own functions. Let's now define a simple function. **Positional arguments** must always be provided inputs. Default values are used for **keyword arguments** if no value is provided. The function definition syntax is as follows:\n",
    "\n",
    "```python\n",
    "def function_name(arg1, arg2 = val2):\n",
    "    code\n",
    "    return value\n",
    "```\n",
    "\n",
    "### Namespaces\n",
    "The local namespace (variable scope) is created when the function is called and the arguments are automatically loaded. You can also use variables from the global namespace in the local namespace. However, you cannot change their values. If you try, a new variable is created. You must use the `global` keyword if you want to update its value.\n",
    "\n",
    "As an example, let's write a function that cleans the names of subject areas."
   ]
  },
  {
   "cell_type": "code",
   "execution_count": 1,
   "id": "55630e43",
   "metadata": {},
   "outputs": [
    {
     "data": {
      "text/plain": [
       "['Accounting',\n",
       " 'Finance',\n",
       " 'Marketing',\n",
       " 'Supply Chain Management',\n",
       " 'International Business']"
      ]
     },
     "execution_count": 1,
     "metadata": {},
     "output_type": "execute_result"
    }
   ],
   "source": [
    "import re #regular expressions library for handling text\n",
    "\n",
    "courses = [' accounting ', 'finance ', 'Marketing ', 'supply chain management#', \n",
    "           '?interna92tional BuSiness1\\n']\n",
    "\n",
    "# Create a list of characters to remove\n",
    "remove_chars = '[_!#?*0-9]'\n",
    "\n",
    "def clean_name(name):\n",
    "    cl_name = name.strip() #remove the beginning and ending white spaces and new lines\n",
    "    cl_name = re.sub(remove_chars, '', cl_name) #remove irrelevant characters\n",
    "    cl_name = cl_name.title() #first letter capital \n",
    "    return cl_name\n",
    "\n",
    "# Write a list comprehension that applies clean_name to each name in the courses list\n",
    "cleaned_courses = [clean_name(course) for course in courses]\n",
    "cleaned_courses"
   ]
  },
  {
   "cell_type": "markdown",
   "id": "8eddc75d",
   "metadata": {},
   "source": [
    "Final check about variable scope:"
   ]
  },
  {
   "cell_type": "code",
   "execution_count": 2,
   "id": "b5b9ddbd",
   "metadata": {},
   "outputs": [
    {
     "ename": "NameError",
     "evalue": "name 'cl_name' is not defined",
     "output_type": "error",
     "traceback": [
      "\u001b[1;31m---------------------------------------------------------------------------\u001b[0m",
      "\u001b[1;31mNameError\u001b[0m                                 Traceback (most recent call last)",
      "Input \u001b[1;32mIn [2]\u001b[0m, in \u001b[0;36m<module>\u001b[1;34m\u001b[0m\n\u001b[0;32m      1\u001b[0m \u001b[38;5;66;03m# What happens if you try accessing cl_name outside the function (in the global scope), \u001b[39;00m\n\u001b[0;32m      2\u001b[0m \u001b[38;5;66;03m# where it is not in the namespace?\u001b[39;00m\n\u001b[1;32m----> 3\u001b[0m \u001b[43mcl_name\u001b[49m\n",
      "\u001b[1;31mNameError\u001b[0m: name 'cl_name' is not defined"
     ]
    }
   ],
   "source": [
    "# What happens if you try accessing cl_name outside the function (in the global scope), \n",
    "# where it is not in the namespace?\n",
    "cl_name"
   ]
  },
  {
   "cell_type": "markdown",
   "id": "f5cb34fa",
   "metadata": {},
   "source": [
    "Since in Python everything is an object, the variables are passed by object (reference), in contrast to passing by value, which is common in most other languages. The behaviour depends on whether the argument is of mutable vs immutable data type, similar to the behaviour of variable assignment as we have seen before. The following exercises illustrate variable scopes and the behaviour for mutable and immutable arguments."
   ]
  },
  {
   "cell_type": "code",
   "execution_count": 3,
   "id": "b686b4b8",
   "metadata": {},
   "outputs": [
    {
     "name": "stdout",
     "output_type": "stream",
     "text": [
      "?businesS analytics# Business Analytics\n"
     ]
    }
   ],
   "source": [
    "# Try the following code - Version 1\n",
    "def clean_name(name):\n",
    "    name = name.strip() \n",
    "    name = re.sub(remove_chars, '', name) \n",
    "    name = name.title()\n",
    "    return name\n",
    "\n",
    "name1 = \"?businesS analytics#\"\n",
    "name2 = clean_name(name1)\n",
    "\n",
    "# What output do you expect and why?\n",
    "print(name1, name2)"
   ]
  },
  {
   "cell_type": "code",
   "execution_count": 4,
   "id": "0e3759a4",
   "metadata": {},
   "outputs": [
    {
     "name": "stdout",
     "output_type": "stream",
     "text": [
      "something else ?businesS analytics# Business Analytics\n"
     ]
    }
   ],
   "source": [
    "# Try the following code - Version 2\n",
    "def clean_name_alt(name):\n",
    "    name1 = name.strip() \n",
    "    name1 = re.sub(remove_chars, '', name1) \n",
    "    name1 = name1.title() #first letter capital \n",
    "    return name1\n",
    "\n",
    "name1 = \"something else\"\n",
    "name2 = \"?businesS analytics#\"\n",
    "name3 = clean_name_alt(name2)\n",
    "\n",
    "# What output do you expect and why?\n",
    "print(name1, name2, name3)"
   ]
  },
  {
   "cell_type": "code",
   "execution_count": 5,
   "id": "d9f8e281",
   "metadata": {},
   "outputs": [
    {
     "name": "stdout",
     "output_type": "stream",
     "text": [
      "Business Analytics ?businesS analytics# Business Analytics\n"
     ]
    }
   ],
   "source": [
    "# Try the following code - Version 3\n",
    "def clean_name_alt(name):\n",
    "    # set the scope of the variable to global\n",
    "    global name1 \n",
    "    name1 = name.strip() \n",
    "    name1 = re.sub(remove_chars, '', name1) \n",
    "    name1 = name1.title() #first letter capital \n",
    "    return name1\n",
    "\n",
    "name1 = \"something else\"\n",
    "name2 = \"?businesS analytics#\"\n",
    "name3 = clean_name_alt(name2)\n",
    "\n",
    "# What output do you expect and why?\n",
    "print(name1, name2, name3)"
   ]
  },
  {
   "cell_type": "code",
   "execution_count": 6,
   "id": "1877ee5d",
   "metadata": {},
   "outputs": [
    {
     "data": {
      "text/plain": [
       "True"
      ]
     },
     "execution_count": 6,
     "metadata": {},
     "output_type": "execute_result"
    }
   ],
   "source": [
    "# Check whether name1 and name3 are the same object\n",
    "name1 is name3"
   ]
  },
  {
   "cell_type": "code",
   "execution_count": 7,
   "id": "71426edc",
   "metadata": {},
   "outputs": [
    {
     "name": "stdout",
     "output_type": "stream",
     "text": [
      "['Accounting', 'Finance', 'Marketing', 'Supply Chain Management', 'International Business'] 5\n"
     ]
    }
   ],
   "source": [
    "# Working with list arguments\n",
    "\n",
    "# Global scope:\n",
    "courses = [' accounting ', 'finance ', 'Marketing ', 'supply chain management#', \n",
    "           '?interna92tional BuSiness1\\n']\n",
    "no_courses = 0\n",
    "\n",
    "def clean_names(name_list):\n",
    "    # set the scope to global\n",
    "    global no_courses\n",
    "    # loop over the list by both index and value\n",
    "    for ind, name in enumerate(name_list):\n",
    "        # increment no_courses\n",
    "        no_courses += 1\n",
    "        # call clean_name function and update the list\n",
    "        name_list[ind] = clean_name(name)        \n",
    "\n",
    "# clean the courses list\n",
    "clean_names(courses)\n",
    "\n",
    "# What output do you expect and why?\n",
    "print(courses, no_courses)"
   ]
  },
  {
   "cell_type": "markdown",
   "id": "de618e75",
   "metadata": {},
   "source": [
    "## Numpy Package\n",
    "NumPy is the main package for numerical computations in Python. It is used together with the Pandas package for data analysis. Numpy is highly efficient even for large amounts of data because its methods are implemented in C. NumPy provides methods, operations, and functions that can be applied to whole arrays without the need for loops or list comprehensions.\n",
    "\n",
    "### Numpy Arrays\n",
    "The core data structure of Numpy is `ndarray` (N-dimensional array). Arrays are homogeneous, meaning that all units have the same data type (mostly numeric and logical), differently from lists that are heterogeneous. With arrays, you can apply operations as if they were scalars. "
   ]
  },
  {
   "cell_type": "code",
   "execution_count": 8,
   "id": "fd7c3388",
   "metadata": {},
   "outputs": [
    {
     "data": {
      "text/plain": [
       "array([[ 0.2438351 , -0.74731818, -1.56117699],\n",
       "       [-0.46425312, -0.35206234, -1.28149188]])"
      ]
     },
     "execution_count": 8,
     "metadata": {},
     "output_type": "execute_result"
    }
   ],
   "source": [
    "# Import the numpy package\n",
    "import numpy as np\n",
    "\n",
    "# Set the seed for random numbers\n",
    "np.random.seed(34)\n",
    "\n",
    "# Create my_array 2 x 3 array of standard normal variables\n",
    "my_array = np.random.standard_normal((2, 3)) \n",
    "my_array"
   ]
  },
  {
   "cell_type": "markdown",
   "id": "26d5c1a4",
   "metadata": {},
   "source": [
    "All mathematical operators are applied element-wise:"
   ]
  },
  {
   "cell_type": "code",
   "execution_count": 9,
   "id": "2fb4dffb",
   "metadata": {},
   "outputs": [
    {
     "data": {
      "text/plain": [
       "array([[  2.43835101,  -7.47318182, -15.61176995],\n",
       "       [ -4.64253122,  -3.52062344, -12.81491877]])"
      ]
     },
     "execution_count": 9,
     "metadata": {},
     "output_type": "execute_result"
    }
   ],
   "source": [
    "# Multiply all entries of my_array by 10\n",
    "10 * my_array"
   ]
  },
  {
   "cell_type": "code",
   "execution_count": 10,
   "id": "eaba5c69",
   "metadata": {},
   "outputs": [
    {
     "data": {
      "text/plain": [
       "array([[ 0.19506808, -0.59785455, -1.2489416 ],\n",
       "       [-0.3714025 , -0.28164988, -1.0251935 ]])"
      ]
     },
     "execution_count": 10,
     "metadata": {},
     "output_type": "execute_result"
    }
   ],
   "source": [
    "# Subtract 0.2*my_array from my_array\n",
    "my_array - 0.2 * my_array"
   ]
  },
  {
   "cell_type": "code",
   "execution_count": 11,
   "id": "cd1e7d9f",
   "metadata": {},
   "outputs": [
    {
     "data": {
      "text/plain": [
       "array([[ 41.01132271, -13.3811812 ,  -6.40542362],\n",
       "       [-21.53997363, -28.40406016,  -7.80340491]])"
      ]
     },
     "execution_count": 11,
     "metadata": {},
     "output_type": "execute_result"
    }
   ],
   "source": [
    "# Divide 10 by each entry of my_array\n",
    "10 / my_array"
   ]
  },
  {
   "cell_type": "code",
   "execution_count": 12,
   "id": "f2c36424",
   "metadata": {},
   "outputs": [
    {
     "data": {
      "text/plain": [
       "array([[ 0.67540859,  3.32930047, 12.3371797 ],\n",
       "       [ 2.11105237,  1.76230478,  7.86546464]])"
      ]
     },
     "execution_count": 12,
     "metadata": {},
     "output_type": "execute_result"
    }
   ],
   "source": [
    "# Raise 0.2 to the power given by each entry of my_array\n",
    "0.2 ** my_array"
   ]
  },
  {
   "cell_type": "code",
   "execution_count": 13,
   "id": "29a28ffd",
   "metadata": {},
   "outputs": [
    {
     "data": {
      "text/plain": [
       "array([[3.53496317e-03, 3.11904897e-01, 5.94030264e+00],\n",
       "       [4.64535952e-02, 1.53630804e-02, 2.69689123e+00]])"
      ]
     },
     "execution_count": 13,
     "metadata": {},
     "output_type": "execute_result"
    }
   ],
   "source": [
    "# Take the fourth power of each entry of my_array\n",
    "my_array ** 4"
   ]
  },
  {
   "cell_type": "markdown",
   "id": "194cbd1c",
   "metadata": {},
   "source": [
    "You can access the shape of the array by the `shape` attribute:"
   ]
  },
  {
   "cell_type": "code",
   "execution_count": 14,
   "id": "f52a14da",
   "metadata": {},
   "outputs": [
    {
     "data": {
      "text/plain": [
       "(2, 3)"
      ]
     },
     "execution_count": 14,
     "metadata": {},
     "output_type": "execute_result"
    }
   ],
   "source": [
    "# How many rows and columns does my array have my_array?\n",
    "my_array.shape"
   ]
  },
  {
   "cell_type": "markdown",
   "id": "7067b0bd",
   "metadata": {},
   "source": [
    "You can create arrays from other collections by using the `np.array()` function."
   ]
  },
  {
   "cell_type": "code",
   "execution_count": 15,
   "id": "bc075f45",
   "metadata": {},
   "outputs": [
    {
     "name": "stdout",
     "output_type": "stream",
     "text": [
      "[3, 6, -2, 3, 6, -2, 3, 6, -2, 3, 6, -2] [ 6 12 -4]\n"
     ]
    }
   ],
   "source": [
    "my_list = [3, 6, -2]\n",
    "# Create my_array from my_list\n",
    "my_array = np.array(my_list)\n",
    "# Change the values of both my_list and my_array\n",
    "my_list *= 4  \n",
    "my_array *= 2\n",
    "\n",
    "# What results do you expect?\n",
    "print(my_list, my_array)"
   ]
  },
  {
   "cell_type": "code",
   "execution_count": 16,
   "id": "dc7062de",
   "metadata": {},
   "outputs": [
    {
     "data": {
      "text/plain": [
       "array([ 6, 12, -4])"
      ]
     },
     "execution_count": 16,
     "metadata": {},
     "output_type": "execute_result"
    }
   ],
   "source": [
    "my_list = [3, 6, -2]\n",
    "# create a list that contains 2 * each value of my_list elements\n",
    "2 * np.array(my_list)"
   ]
  },
  {
   "cell_type": "markdown",
   "id": "3766350e",
   "metadata": {},
   "source": [
    "You can create two-dimensional arrays from lists with equal length:"
   ]
  },
  {
   "cell_type": "code",
   "execution_count": 17,
   "id": "50246e92",
   "metadata": {},
   "outputs": [
    {
     "data": {
      "text/plain": [
       "array([[ 1,  2,  3,  4],\n",
       "       [ 5,  6,  7,  8],\n",
       "       [ 9, 10, 11, 12]])"
      ]
     },
     "execution_count": 17,
     "metadata": {},
     "output_type": "execute_result"
    }
   ],
   "source": [
    "data1 = [[1, 2, 3, 4], [5, 6, 7, 8], [9, 10, 11, 12]]\n",
    "# Create 2D array from data1\n",
    "arr1 = np.array(data1)\n",
    "# print arr1\n",
    "arr1"
   ]
  },
  {
   "cell_type": "markdown",
   "id": "f12d8460",
   "metadata": {},
   "source": [
    "A commonly used Numpy array method is `reshape((n1,n2))` which reshapes the array to a 2D array with n1 rows and n2 columns (can be applied to higher dimensional arrays). Another useful method is `ravel()`, which flattens the array"
   ]
  },
  {
   "cell_type": "code",
   "execution_count": 18,
   "id": "411d3997",
   "metadata": {},
   "outputs": [
    {
     "data": {
      "text/plain": [
       "array([ 1,  2,  3,  4,  5,  6,  7,  8,  9, 10, 11, 12])"
      ]
     },
     "execution_count": 18,
     "metadata": {},
     "output_type": "execute_result"
    }
   ],
   "source": [
    "# range(1, 13) -> 1, 2, 3, ..., 12\n",
    "# Numpy's arange is similar to the range iterator but returns an array \n",
    "arr2 = np.arange(1,13)\n",
    "# Print the array\n",
    "arr2"
   ]
  },
  {
   "cell_type": "code",
   "execution_count": 19,
   "id": "9a2a9d0c",
   "metadata": {},
   "outputs": [
    {
     "data": {
      "text/plain": [
       "array([[ 1,  2,  3,  4],\n",
       "       [ 5,  6,  7,  8],\n",
       "       [ 9, 10, 11, 12]])"
      ]
     },
     "execution_count": 19,
     "metadata": {},
     "output_type": "execute_result"
    }
   ],
   "source": [
    "# Reshape the array to 3x4 two-dimensional array\n",
    "arr2.reshape((3, 4))"
   ]
  },
  {
   "cell_type": "code",
   "execution_count": 20,
   "id": "528a3b9b",
   "metadata": {},
   "outputs": [
    {
     "data": {
      "text/plain": [
       "array([ 1,  2,  3,  4,  5,  6,  7,  8,  9, 10, 11, 12])"
      ]
     },
     "execution_count": 20,
     "metadata": {},
     "output_type": "execute_result"
    }
   ],
   "source": [
    "# Reshape the array to 2 rows and assign to arr3\n",
    "arr3 = arr2.reshape((2,-1))\n",
    "\n",
    "# Flatten arr3\n",
    "arr3.flatten()"
   ]
  },
  {
   "cell_type": "markdown",
   "id": "4fd0c851",
   "metadata": {},
   "source": [
    "You can compare two numerical arrays to form a Boolean array.\n",
    "\n",
    "Create two standard normally distributed 2d (2x4) arrays and check whether the entry in the first array is greater than or equal to the second array entry."
   ]
  },
  {
   "cell_type": "code",
   "execution_count": 21,
   "id": "47ceb922",
   "metadata": {},
   "outputs": [
    {
     "data": {
      "text/plain": [
       "array([[ True, False,  True, False],\n",
       "       [ True, False, False,  True]])"
      ]
     },
     "execution_count": 21,
     "metadata": {},
     "output_type": "execute_result"
    }
   ],
   "source": [
    "arr1 = np.random.standard_normal((2, 4))\n",
    "arr2 = np.random.standard_normal((2, 4))\n",
    "# create the boolean array that contains whether arr1 value is greater than or equal to arr2 value\n",
    "arr1 >= arr2"
   ]
  },
  {
   "cell_type": "markdown",
   "id": "8353e946",
   "metadata": {},
   "source": [
    "## Indexing and Slicing Numpy Arrays\n",
    "Indexing and slicing are done in a very similar way to lists and tuples. If the array is high dimensional (at least 2), you provide indices for all dimensions."
   ]
  },
  {
   "cell_type": "code",
   "execution_count": 22,
   "id": "0440a9d7",
   "metadata": {},
   "outputs": [
    {
     "name": "stdout",
     "output_type": "stream",
     "text": [
      "6\n",
      "[-2  7  9]\n"
     ]
    }
   ],
   "source": [
    "arr1 = np.array([3, 6, -2, 7, 9])\n",
    "# The element in index 1\n",
    "print(arr1[1])\n",
    "# Slice that starts with the index 2 up until the end\n",
    "print(arr1[2:])"
   ]
  },
  {
   "cell_type": "markdown",
   "id": "f068c607",
   "metadata": {},
   "source": [
    "With Numpy arrays, you can pass multiple indices as a list:"
   ]
  },
  {
   "cell_type": "code",
   "execution_count": 23,
   "id": "6468812c",
   "metadata": {},
   "outputs": [
    {
     "data": {
      "text/plain": [
       "array([ 3, -2,  7])"
      ]
     },
     "execution_count": 23,
     "metadata": {},
     "output_type": "execute_result"
    }
   ],
   "source": [
    "# Subscript elements at index 0, 2, and 3\n",
    "arr1[[0, 2, 3]]"
   ]
  },
  {
   "cell_type": "markdown",
   "id": "0357c953",
   "metadata": {},
   "source": [
    "Working with 2D arrays:"
   ]
  },
  {
   "cell_type": "code",
   "execution_count": 24,
   "id": "74dcb599",
   "metadata": {},
   "outputs": [
    {
     "data": {
      "text/plain": [
       "array([[ 0,  1,  2],\n",
       "       [ 3,  4,  5],\n",
       "       [ 6,  7,  8],\n",
       "       [ 9, 10, 11]])"
      ]
     },
     "execution_count": 24,
     "metadata": {},
     "output_type": "execute_result"
    }
   ],
   "source": [
    "arr2 = np.arange(12).reshape(4,3)\n",
    "arr2"
   ]
  },
  {
   "cell_type": "code",
   "execution_count": 25,
   "id": "29302c45",
   "metadata": {},
   "outputs": [
    {
     "data": {
      "text/plain": [
       "5"
      ]
     },
     "execution_count": 25,
     "metadata": {},
     "output_type": "execute_result"
    }
   ],
   "source": [
    "# Subscript to the element in row 1 and column 2\n",
    "arr2[1, 2]"
   ]
  },
  {
   "cell_type": "code",
   "execution_count": 26,
   "id": "d0e630cb",
   "metadata": {},
   "outputs": [
    {
     "data": {
      "text/plain": [
       "array([[ 6,  8],\n",
       "       [ 9, 11]])"
      ]
     },
     "execution_count": 26,
     "metadata": {},
     "output_type": "execute_result"
    }
   ],
   "source": [
    "# Dice to the sub-matrix from row 2 to the last row and columns 0 and 2 (not 1)\n",
    "arr2[2:, 0::2]"
   ]
  },
  {
   "cell_type": "markdown",
   "id": "5c0f5819",
   "metadata": {},
   "source": [
    "You can then assign values to these slices. If you assign a scalar, its value is repeated for each entry."
   ]
  },
  {
   "cell_type": "code",
   "execution_count": 27,
   "id": "0b024715",
   "metadata": {},
   "outputs": [
    {
     "data": {
      "text/plain": [
       "array([[  0,   1,   2],\n",
       "       [  3,   4,   5],\n",
       "       [100,   7, 100],\n",
       "       [100,  10, 100]])"
      ]
     },
     "execution_count": 27,
     "metadata": {},
     "output_type": "execute_result"
    }
   ],
   "source": [
    "# For the dice above, assign the values to 100\n",
    "arr2[2:, 0::2] = 100\n",
    "# Print arr2\n",
    "arr2"
   ]
  },
  {
   "cell_type": "markdown",
   "id": "b2f3d492",
   "metadata": {},
   "source": [
    "You can also index by using logical conditions, which you can equally apply to other collections such as lists and tuples. "
   ]
  },
  {
   "cell_type": "code",
   "execution_count": 28,
   "id": "b09b3b65",
   "metadata": {},
   "outputs": [
    {
     "data": {
      "text/plain": [
       "array([[ 0.        ,  1.        ,  2.        ],\n",
       "       [ 3.        ,  4.        ,  5.        ],\n",
       "       [ 9.9974274 , 12.52209386,  9.627352  ],\n",
       "       [12.85985544,  8.41779605,  9.40452156]])"
      ]
     },
     "execution_count": 28,
     "metadata": {},
     "output_type": "execute_result"
    }
   ],
   "source": [
    "# Data type conversion needed for the next replacement (remember homogeneous types)\n",
    "arr2 = arr2.astype(np.float64)\n",
    "\n",
    "# Identify the elements of arr2 which are greater than or equal to 7\n",
    "arr2 >= 7\n",
    "\n",
    "# Set the values >= 7 to normal random numbers with mean 10, std dev =2\n",
    "arr2[arr2 >= 7] = np.random.normal(10, 2, np.sum(arr2>=7))\n",
    "arr2"
   ]
  },
  {
   "cell_type": "markdown",
   "id": "204b3f31",
   "metadata": {},
   "source": [
    "## Numpy functions\n",
    "Numpy provides a wide range of functions and methods that can be applied efficiently on arrays.  \n",
    "\n",
    "**Unary functions**:\n",
    "They are all element-wise transformations.\n",
    "- `abs`: Compute the absolute value\n",
    "- `sqrt`: Compute the square root\n",
    "- `exp`: Compute the exponential\n",
    "- `log`,`log10`: Natural logarithm, log base 10\n",
    "- `sign`: Compute the sign\n",
    "- `rint`: Round to the nearest integer\n",
    "- `isnan`: Return boolean array indicating whether each value is NaN (Not a Number)\n",
    "- `cos`, `cosh`, `sin`, `sinh`, `tan`, `tanh`: Regular and hyperbolic trigonometric functions\n",
    "\n",
    "**Binary functions:**\n",
    "They take two arrays and return a single array as the result. \n",
    "- `maximum`: Element-wise maximum\n",
    "- `minimum`: Element-wise minimum\n",
    "- `mod`: Element-wise modulus"
   ]
  },
  {
   "cell_type": "code",
   "execution_count": 29,
   "id": "9a6b6d52",
   "metadata": {},
   "outputs": [
    {
     "name": "stdout",
     "output_type": "stream",
     "text": [
      "[1.00000000e+00 2.71828183e+00 7.38905610e+00 2.00855369e+01\n",
      " 5.45981500e+01 1.48413159e+02 4.03428793e+02 1.09663316e+03\n",
      " 2.98095799e+03 8.10308393e+03]\n"
     ]
    }
   ],
   "source": [
    "# Create an array of 0, 1, ...,9\n",
    "arr1 = np.arange(0, 10)\n",
    "# Exponentiate that array elementwise\n",
    "print(np.exp(arr1))"
   ]
  },
  {
   "cell_type": "markdown",
   "id": "5349814c",
   "metadata": {},
   "source": [
    "Create two standard normal 2d (2x2) arrays and choose the maximum of the two arrays for each element"
   ]
  },
  {
   "cell_type": "code",
   "execution_count": 30,
   "id": "f0268abd",
   "metadata": {},
   "outputs": [
    {
     "name": "stdout",
     "output_type": "stream",
     "text": [
      "[[ 0.9619496  -1.07044067]\n",
      " [-1.20546821  0.64403071]]\n",
      "[[ 0.05692216  1.41854611]\n",
      " [-1.14294482  0.21581955]]\n",
      "[[ 0.9619496   1.41854611]\n",
      " [-1.14294482  0.64403071]]\n"
     ]
    }
   ],
   "source": [
    "arr1 = np.random.standard_normal((2, 2))\n",
    "arr2 = np.random.standard_normal((2, 2))\n",
    "# Create arr3, which is elementwise maximum of the two\n",
    "arr3 = np.maximum(arr1, arr2)\n",
    "# Print arr1, arr2, arr3\n",
    "print(arr1, arr2, arr3, sep ='\\n')"
   ]
  },
  {
   "cell_type": "code",
   "execution_count": 31,
   "id": "1f6602b9",
   "metadata": {},
   "outputs": [
    {
     "data": {
      "text/plain": [
       "array([[ 0,  1,  2],\n",
       "       [ 3,  4,  5],\n",
       "       [ 6,  7,  8],\n",
       "       [ 9, 10, 11]])"
      ]
     },
     "execution_count": 31,
     "metadata": {},
     "output_type": "execute_result"
    }
   ],
   "source": [
    "arr = np.arange(12).reshape(4,3)\n",
    "arr"
   ]
  },
  {
   "cell_type": "code",
   "execution_count": 32,
   "id": "8f78422c",
   "metadata": {},
   "outputs": [
    {
     "data": {
      "text/plain": [
       "(5.5, 66, 3.452052529534663)"
      ]
     },
     "execution_count": 32,
     "metadata": {},
     "output_type": "execute_result"
    }
   ],
   "source": [
    "# Overall mean, sum, standard deviation\n",
    "arr.mean(), arr.sum(), arr.std()"
   ]
  },
  {
   "cell_type": "code",
   "execution_count": 33,
   "id": "457aa0d5",
   "metadata": {},
   "outputs": [
    {
     "data": {
      "text/plain": [
       "array([4.5, 5.5, 6.5])"
      ]
     },
     "execution_count": 33,
     "metadata": {},
     "output_type": "execute_result"
    }
   ],
   "source": [
    "# Mean across the rows\n",
    "arr.mean(axis=0)"
   ]
  },
  {
   "cell_type": "code",
   "execution_count": 34,
   "id": "a43d9e8e",
   "metadata": {},
   "outputs": [
    {
     "data": {
      "text/plain": [
       "array([ 2,  5,  8, 11])"
      ]
     },
     "execution_count": 34,
     "metadata": {},
     "output_type": "execute_result"
    }
   ],
   "source": [
    "# Maximum across the columns\n",
    "arr.max(axis=1) "
   ]
  },
  {
   "cell_type": "markdown",
   "id": "dd839304",
   "metadata": {},
   "source": [
    "## Working with Tabular Data: Pandas\n",
    "We will now learn the basics of Pandas, the Python package for working with tabular data, and start working on data pre-processing.\n",
    "\n",
    "Consider that you have just started working as an analyst at a film production company and your job involves analysing the market trends in the filming industry. As a data source on individual firms and audience preferences, you start your analysis by downloading the datasets on IMDB https://www.imdb.com/interfaces/. Your first objective is to clean data in the individual datasets and form an integrated dataset of movies produced in the past two decades, involving Title, Genre, Year, Runtime (Minutes), IMDB Rating, and Number of Votes data by merging two datasets.\n",
    "\n",
    "## Organising your workspace\n",
    "\n",
    "To work with data files, we must first ensure that they are in our working directory. In the below, we change the path to the directory in which we have the data files in our local drive. For this, we can use the shell commands by importing the `os` package. The function `os.getcwd()` returns the current working directory, while `os.chdir()` changes the working directory. The `os.path` module contains functions to work with path names in a way that is robust across operating systems (Windows, MacOS, and Linux)."
   ]
  },
  {
   "cell_type": "code",
   "execution_count": 35,
   "id": "343759d7",
   "metadata": {},
   "outputs": [
    {
     "name": "stdout",
     "output_type": "stream",
     "text": [
      "C:\\Users\\guven\\Documents\\PhD workshop\\to be uploaded\n",
      "C:\\Users\\guven\\Documents\\PhD workshop\n"
     ]
    }
   ],
   "source": [
    "#import os\n",
    "import os\n",
    "\n",
    "# Print your current working directory\n",
    "print(os.getcwd())\n",
    "\n",
    "# assign your home address to the variable HOME. The expanduser function is used to replace ~ with the home\n",
    "HOME = os.path.expanduser('~')\n",
    "\n",
    "# Locate the folder in which you saved the data and create a path by joining them\n",
    "# In my case, my HOME is \"C:\\Users\\Guven\" and my files are under \n",
    "# C:\\Users\\Guven\\Documents\\PhD workshop\\\n",
    "PROJECT_DIR = os.path.join(HOME, 'Documents', 'PhD workshop')\n",
    "\n",
    "# Change to the folder in which the dataset\n",
    "os.chdir(PROJECT_DIR)\n",
    "\n",
    "# Print your current working directory\n",
    "print(os.getcwd())"
   ]
  },
  {
   "cell_type": "markdown",
   "id": "8772b649",
   "metadata": {},
   "source": [
    "If you are working on Google Colab, do the following after you copy the files in the designated folder on your Google Drive:"
   ]
  },
  {
   "cell_type": "code",
   "execution_count": null,
   "id": "17ed98fa",
   "metadata": {},
   "outputs": [],
   "source": [
    "from google.colab import drive\n",
    "import os\n",
    "drive.mount('/content/drive')\n",
    "\n",
    "os.chdir(os.path.join(os.getcwd(), 'drive', 'My Drive', 'Colab Notebooks'))\n",
    "os.listdir()"
   ]
  },
  {
   "cell_type": "markdown",
   "id": "8e6168b9",
   "metadata": {},
   "source": [
    "## Reading data with Pandas\n",
    "\n",
    "The first step of data analysis is reading data from files. Pandas library provides several functions for reading data from different types of files, including comma or tab separated files. We first read the data from the `title.basics.tsv.gz` file, which includes the following data fields:  \n",
    "- tconst (string) - alphanumeric unique identifier of the title\n",
    "- titleType (string) – the type/format of the title (e.g. movie, short, tvseries, tvepisode, video, etc)\n",
    "- primaryTitle (string) – the more popular title / the title used by the filmmakers on promotional materials at the point of release\n",
    "- originalTitle (string) - original title, in the original language\n",
    "- startYear (YYYY) – represents the release year of a title. In the case of TV Series, it is the series start year\n",
    "- endYear (YYYY) – TV Series end year. ‘\\N’ for all other title types\n",
    "- runtimeMinutes – primary runtime of the title, in minutes\n",
    "- genres (string array) – includes up to three genres associated with the title.\n",
    "\n",
    "We now read the data by the Pandas `read_csv` function, which takes the file path and `sep` (separator, which is `\\t` for tab in our data that is tab-seperated). This returns a `dataframe` object which includes different observations (films) in the rows, and features in the columns. Each row is identifed by its index value very much like Python dictionaries."
   ]
  },
  {
   "cell_type": "code",
   "execution_count": 36,
   "id": "0185e206",
   "metadata": {},
   "outputs": [],
   "source": [
    "# Import pandas library (convention: as pd)\n",
    "import pandas as pd\n",
    "\n",
    "# Read the data from title_basics into the dataframe movies_df\n",
    "movies_df = pd.read_csv('title.basics.tsv.gz', sep='\\t', low_memory=False)"
   ]
  },
  {
   "cell_type": "markdown",
   "id": "943486ff",
   "metadata": {},
   "source": [
    "## Data preprocessing\n",
    "\n",
    "We shall now explore the data set. For this, we can use the `head()` and `tail()` methods of the dataframe, which display the top or bottom rows, respectively."
   ]
  },
  {
   "cell_type": "code",
   "execution_count": 37,
   "id": "e426fdfc",
   "metadata": {},
   "outputs": [
    {
     "data": {
      "text/html": [
       "<div>\n",
       "<style scoped>\n",
       "    .dataframe tbody tr th:only-of-type {\n",
       "        vertical-align: middle;\n",
       "    }\n",
       "\n",
       "    .dataframe tbody tr th {\n",
       "        vertical-align: top;\n",
       "    }\n",
       "\n",
       "    .dataframe thead th {\n",
       "        text-align: right;\n",
       "    }\n",
       "</style>\n",
       "<table border=\"1\" class=\"dataframe\">\n",
       "  <thead>\n",
       "    <tr style=\"text-align: right;\">\n",
       "      <th></th>\n",
       "      <th>tconst</th>\n",
       "      <th>titleType</th>\n",
       "      <th>primaryTitle</th>\n",
       "      <th>originalTitle</th>\n",
       "      <th>isAdult</th>\n",
       "      <th>startYear</th>\n",
       "      <th>endYear</th>\n",
       "      <th>runtimeMinutes</th>\n",
       "      <th>genres</th>\n",
       "    </tr>\n",
       "  </thead>\n",
       "  <tbody>\n",
       "    <tr>\n",
       "      <th>0</th>\n",
       "      <td>tt0000001</td>\n",
       "      <td>short</td>\n",
       "      <td>Carmencita</td>\n",
       "      <td>Carmencita</td>\n",
       "      <td>0</td>\n",
       "      <td>1894</td>\n",
       "      <td>\\N</td>\n",
       "      <td>1</td>\n",
       "      <td>Documentary,Short</td>\n",
       "    </tr>\n",
       "    <tr>\n",
       "      <th>1</th>\n",
       "      <td>tt0000002</td>\n",
       "      <td>short</td>\n",
       "      <td>Le clown et ses chiens</td>\n",
       "      <td>Le clown et ses chiens</td>\n",
       "      <td>0</td>\n",
       "      <td>1892</td>\n",
       "      <td>\\N</td>\n",
       "      <td>5</td>\n",
       "      <td>Animation,Short</td>\n",
       "    </tr>\n",
       "    <tr>\n",
       "      <th>2</th>\n",
       "      <td>tt0000003</td>\n",
       "      <td>short</td>\n",
       "      <td>Pauvre Pierrot</td>\n",
       "      <td>Pauvre Pierrot</td>\n",
       "      <td>0</td>\n",
       "      <td>1892</td>\n",
       "      <td>\\N</td>\n",
       "      <td>4</td>\n",
       "      <td>Animation,Comedy,Romance</td>\n",
       "    </tr>\n",
       "    <tr>\n",
       "      <th>3</th>\n",
       "      <td>tt0000004</td>\n",
       "      <td>short</td>\n",
       "      <td>Un bon bock</td>\n",
       "      <td>Un bon bock</td>\n",
       "      <td>0</td>\n",
       "      <td>1892</td>\n",
       "      <td>\\N</td>\n",
       "      <td>12</td>\n",
       "      <td>Animation,Short</td>\n",
       "    </tr>\n",
       "    <tr>\n",
       "      <th>4</th>\n",
       "      <td>tt0000005</td>\n",
       "      <td>short</td>\n",
       "      <td>Blacksmith Scene</td>\n",
       "      <td>Blacksmith Scene</td>\n",
       "      <td>0</td>\n",
       "      <td>1893</td>\n",
       "      <td>\\N</td>\n",
       "      <td>1</td>\n",
       "      <td>Comedy,Short</td>\n",
       "    </tr>\n",
       "    <tr>\n",
       "      <th>5</th>\n",
       "      <td>tt0000006</td>\n",
       "      <td>short</td>\n",
       "      <td>Chinese Opium Den</td>\n",
       "      <td>Chinese Opium Den</td>\n",
       "      <td>0</td>\n",
       "      <td>1894</td>\n",
       "      <td>\\N</td>\n",
       "      <td>1</td>\n",
       "      <td>Short</td>\n",
       "    </tr>\n",
       "    <tr>\n",
       "      <th>6</th>\n",
       "      <td>tt0000007</td>\n",
       "      <td>short</td>\n",
       "      <td>Corbett and Courtney Before the Kinetograph</td>\n",
       "      <td>Corbett and Courtney Before the Kinetograph</td>\n",
       "      <td>0</td>\n",
       "      <td>1894</td>\n",
       "      <td>\\N</td>\n",
       "      <td>1</td>\n",
       "      <td>Short,Sport</td>\n",
       "    </tr>\n",
       "    <tr>\n",
       "      <th>7</th>\n",
       "      <td>tt0000008</td>\n",
       "      <td>short</td>\n",
       "      <td>Edison Kinetoscopic Record of a Sneeze</td>\n",
       "      <td>Edison Kinetoscopic Record of a Sneeze</td>\n",
       "      <td>0</td>\n",
       "      <td>1894</td>\n",
       "      <td>\\N</td>\n",
       "      <td>1</td>\n",
       "      <td>Documentary,Short</td>\n",
       "    </tr>\n",
       "    <tr>\n",
       "      <th>8</th>\n",
       "      <td>tt0000009</td>\n",
       "      <td>short</td>\n",
       "      <td>Miss Jerry</td>\n",
       "      <td>Miss Jerry</td>\n",
       "      <td>0</td>\n",
       "      <td>1894</td>\n",
       "      <td>\\N</td>\n",
       "      <td>40</td>\n",
       "      <td>Romance,Short</td>\n",
       "    </tr>\n",
       "    <tr>\n",
       "      <th>9</th>\n",
       "      <td>tt0000010</td>\n",
       "      <td>short</td>\n",
       "      <td>Leaving the Factory</td>\n",
       "      <td>La sortie de l'usine Lumière à Lyon</td>\n",
       "      <td>0</td>\n",
       "      <td>1895</td>\n",
       "      <td>\\N</td>\n",
       "      <td>1</td>\n",
       "      <td>Documentary,Short</td>\n",
       "    </tr>\n",
       "  </tbody>\n",
       "</table>\n",
       "</div>"
      ],
      "text/plain": [
       "      tconst titleType                                 primaryTitle  \\\n",
       "0  tt0000001     short                                   Carmencita   \n",
       "1  tt0000002     short                       Le clown et ses chiens   \n",
       "2  tt0000003     short                               Pauvre Pierrot   \n",
       "3  tt0000004     short                                  Un bon bock   \n",
       "4  tt0000005     short                             Blacksmith Scene   \n",
       "5  tt0000006     short                            Chinese Opium Den   \n",
       "6  tt0000007     short  Corbett and Courtney Before the Kinetograph   \n",
       "7  tt0000008     short       Edison Kinetoscopic Record of a Sneeze   \n",
       "8  tt0000009     short                                   Miss Jerry   \n",
       "9  tt0000010     short                          Leaving the Factory   \n",
       "\n",
       "                                 originalTitle isAdult startYear endYear  \\\n",
       "0                                   Carmencita       0      1894      \\N   \n",
       "1                       Le clown et ses chiens       0      1892      \\N   \n",
       "2                               Pauvre Pierrot       0      1892      \\N   \n",
       "3                                  Un bon bock       0      1892      \\N   \n",
       "4                             Blacksmith Scene       0      1893      \\N   \n",
       "5                            Chinese Opium Den       0      1894      \\N   \n",
       "6  Corbett and Courtney Before the Kinetograph       0      1894      \\N   \n",
       "7       Edison Kinetoscopic Record of a Sneeze       0      1894      \\N   \n",
       "8                                   Miss Jerry       0      1894      \\N   \n",
       "9          La sortie de l'usine Lumière à Lyon       0      1895      \\N   \n",
       "\n",
       "  runtimeMinutes                    genres  \n",
       "0              1         Documentary,Short  \n",
       "1              5           Animation,Short  \n",
       "2              4  Animation,Comedy,Romance  \n",
       "3             12           Animation,Short  \n",
       "4              1              Comedy,Short  \n",
       "5              1                     Short  \n",
       "6              1               Short,Sport  \n",
       "7              1         Documentary,Short  \n",
       "8             40             Romance,Short  \n",
       "9              1         Documentary,Short  "
      ]
     },
     "execution_count": 37,
     "metadata": {},
     "output_type": "execute_result"
    }
   ],
   "source": [
    "# Display the top 10 rows of movies_df\n",
    "movies_df.head(10)"
   ]
  },
  {
   "cell_type": "markdown",
   "id": "0995fe66",
   "metadata": {},
   "source": [
    "The column `tconst` is the unique identifier for the record. Hence, we would like to set it as the index by the `set_index()` method. The default behaviour of Pandas objects is not to mutate the original data frame and to return a new dataframe. To overwrite the orginal dataframe, you should pass the argument `inplace=True`. Passing the argument `drop=True` leads to dropping the column used for setting the index."
   ]
  },
  {
   "cell_type": "code",
   "execution_count": 38,
   "id": "985d98b0",
   "metadata": {},
   "outputs": [
    {
     "data": {
      "text/html": [
       "<div>\n",
       "<style scoped>\n",
       "    .dataframe tbody tr th:only-of-type {\n",
       "        vertical-align: middle;\n",
       "    }\n",
       "\n",
       "    .dataframe tbody tr th {\n",
       "        vertical-align: top;\n",
       "    }\n",
       "\n",
       "    .dataframe thead th {\n",
       "        text-align: right;\n",
       "    }\n",
       "</style>\n",
       "<table border=\"1\" class=\"dataframe\">\n",
       "  <thead>\n",
       "    <tr style=\"text-align: right;\">\n",
       "      <th></th>\n",
       "      <th>titleType</th>\n",
       "      <th>primaryTitle</th>\n",
       "      <th>originalTitle</th>\n",
       "      <th>isAdult</th>\n",
       "      <th>startYear</th>\n",
       "      <th>endYear</th>\n",
       "      <th>runtimeMinutes</th>\n",
       "      <th>genres</th>\n",
       "    </tr>\n",
       "    <tr>\n",
       "      <th>tconst</th>\n",
       "      <th></th>\n",
       "      <th></th>\n",
       "      <th></th>\n",
       "      <th></th>\n",
       "      <th></th>\n",
       "      <th></th>\n",
       "      <th></th>\n",
       "      <th></th>\n",
       "    </tr>\n",
       "  </thead>\n",
       "  <tbody>\n",
       "    <tr>\n",
       "      <th>tt9916848</th>\n",
       "      <td>tvEpisode</td>\n",
       "      <td>Episode #3.17</td>\n",
       "      <td>Episode #3.17</td>\n",
       "      <td>0</td>\n",
       "      <td>2010</td>\n",
       "      <td>\\N</td>\n",
       "      <td>\\N</td>\n",
       "      <td>Action,Drama,Family</td>\n",
       "    </tr>\n",
       "    <tr>\n",
       "      <th>tt9916850</th>\n",
       "      <td>tvEpisode</td>\n",
       "      <td>Episode #3.19</td>\n",
       "      <td>Episode #3.19</td>\n",
       "      <td>0</td>\n",
       "      <td>2010</td>\n",
       "      <td>\\N</td>\n",
       "      <td>\\N</td>\n",
       "      <td>Action,Drama,Family</td>\n",
       "    </tr>\n",
       "    <tr>\n",
       "      <th>tt9916852</th>\n",
       "      <td>tvEpisode</td>\n",
       "      <td>Episode #3.20</td>\n",
       "      <td>Episode #3.20</td>\n",
       "      <td>0</td>\n",
       "      <td>2010</td>\n",
       "      <td>\\N</td>\n",
       "      <td>\\N</td>\n",
       "      <td>Action,Drama,Family</td>\n",
       "    </tr>\n",
       "    <tr>\n",
       "      <th>tt9916856</th>\n",
       "      <td>short</td>\n",
       "      <td>The Wind</td>\n",
       "      <td>The Wind</td>\n",
       "      <td>0</td>\n",
       "      <td>2015</td>\n",
       "      <td>\\N</td>\n",
       "      <td>27</td>\n",
       "      <td>Short</td>\n",
       "    </tr>\n",
       "    <tr>\n",
       "      <th>tt9916880</th>\n",
       "      <td>tvEpisode</td>\n",
       "      <td>Horrid Henry Knows It All</td>\n",
       "      <td>Horrid Henry Knows It All</td>\n",
       "      <td>0</td>\n",
       "      <td>2014</td>\n",
       "      <td>\\N</td>\n",
       "      <td>10</td>\n",
       "      <td>Adventure,Animation,Comedy</td>\n",
       "    </tr>\n",
       "  </tbody>\n",
       "</table>\n",
       "</div>"
      ],
      "text/plain": [
       "           titleType               primaryTitle              originalTitle  \\\n",
       "tconst                                                                       \n",
       "tt9916848  tvEpisode              Episode #3.17              Episode #3.17   \n",
       "tt9916850  tvEpisode              Episode #3.19              Episode #3.19   \n",
       "tt9916852  tvEpisode              Episode #3.20              Episode #3.20   \n",
       "tt9916856      short                   The Wind                   The Wind   \n",
       "tt9916880  tvEpisode  Horrid Henry Knows It All  Horrid Henry Knows It All   \n",
       "\n",
       "          isAdult startYear endYear runtimeMinutes                      genres  \n",
       "tconst                                                                          \n",
       "tt9916848       0      2010      \\N             \\N         Action,Drama,Family  \n",
       "tt9916850       0      2010      \\N             \\N         Action,Drama,Family  \n",
       "tt9916852       0      2010      \\N             \\N         Action,Drama,Family  \n",
       "tt9916856       0      2015      \\N             27                       Short  \n",
       "tt9916880       0      2014      \\N             10  Adventure,Animation,Comedy  "
      ]
     },
     "execution_count": 38,
     "metadata": {},
     "output_type": "execute_result"
    }
   ],
   "source": [
    "movies_df.set_index('tconst', drop=True, inplace=True)\n",
    "\n",
    "# print the tail (last 5)\n",
    "movies_df.tail()"
   ]
  },
  {
   "cell_type": "markdown",
   "id": "876a6772",
   "metadata": {},
   "source": [
    "The `info` method provides key information on the data frame, including names and types of variables, data shape (number of rows and columns), and memory. As you can see below, there are 8946058 titles recorded on IMDB."
   ]
  },
  {
   "cell_type": "code",
   "execution_count": 39,
   "id": "de063655",
   "metadata": {},
   "outputs": [
    {
     "name": "stdout",
     "output_type": "stream",
     "text": [
      "<class 'pandas.core.frame.DataFrame'>\n",
      "Index: 8946058 entries, tt0000001 to tt9916880\n",
      "Data columns (total 8 columns):\n",
      " #   Column          Dtype \n",
      "---  ------          ----- \n",
      " 0   titleType       object\n",
      " 1   primaryTitle    object\n",
      " 2   originalTitle   object\n",
      " 3   isAdult         object\n",
      " 4   startYear       object\n",
      " 5   endYear         object\n",
      " 6   runtimeMinutes  object\n",
      " 7   genres          object\n",
      "dtypes: object(8)\n",
      "memory usage: 614.3+ MB\n"
     ]
    }
   ],
   "source": [
    "# Show info about the dataframe\n",
    "movies_df.info()"
   ]
  },
  {
   "cell_type": "markdown",
   "id": "2a350b49",
   "metadata": {},
   "source": [
    "We can now move to data cleaning. First, let's remove duplicate entries, if any, by the `drop_duplicates` method."
   ]
  },
  {
   "cell_type": "code",
   "execution_count": 40,
   "id": "aafed90e",
   "metadata": {},
   "outputs": [
    {
     "data": {
      "text/plain": [
       "2043868"
      ]
     },
     "execution_count": 40,
     "metadata": {},
     "output_type": "execute_result"
    }
   ],
   "source": [
    "# What is the initial number of rows?\n",
    "# Hint: you can use the shape attribute as in Numpy arrays\n",
    "N1 = movies_df.shape[0]\n",
    "\n",
    "# Drop the duplicates in-place\n",
    "movies_df.drop_duplicates(inplace=True)\n",
    "\n",
    "# Print the number of rows that have been dropped\n",
    "N1 - movies_df.shape[0] "
   ]
  },
  {
   "cell_type": "markdown",
   "id": "b6acbd40",
   "metadata": {},
   "source": [
    "We can obtain a view of one of the columns by using square brackets [], which keeps the association with the index and returns a Series. Since it is only a view of a part of the original dataframe, if we make any changes, it applies to the original dataframe."
   ]
  },
  {
   "cell_type": "code",
   "execution_count": 41,
   "id": "c304c9fb",
   "metadata": {},
   "outputs": [
    {
     "data": {
      "text/plain": [
       "tconst\n",
       "tt0000001        short\n",
       "tt0000002        short\n",
       "tt0000003        short\n",
       "tt0000004        short\n",
       "tt0000005        short\n",
       "               ...    \n",
       "tt9916848    tvEpisode\n",
       "tt9916850    tvEpisode\n",
       "tt9916852    tvEpisode\n",
       "tt9916856        short\n",
       "tt9916880    tvEpisode\n",
       "Name: titleType, Length: 6902190, dtype: object"
      ]
     },
     "execution_count": 41,
     "metadata": {},
     "output_type": "execute_result"
    }
   ],
   "source": [
    "# Return a view of the \"titleType\" series\n",
    "movies_df['titleType']"
   ]
  },
  {
   "cell_type": "markdown",
   "id": "6358bdb6",
   "metadata": {},
   "source": [
    "Not all of the columns are relevant. Especially if you are working with big data sets, it is beneficial to drop the irrelevant variables directly. You need to identify these variables based on your research questions and initial exploration of the data set. You can use the `drop` method with the argument `axis = 1` to drop the columns, for which you pass the names. You can obtain the columns by using the `columns` attribute of the dataframe."
   ]
  },
  {
   "cell_type": "code",
   "execution_count": 42,
   "id": "d7fba974",
   "metadata": {},
   "outputs": [
    {
     "data": {
      "text/plain": [
       "Index(['titleType', 'primaryTitle', 'startYear', 'runtimeMinutes', 'genres'], dtype='object')"
      ]
     },
     "execution_count": 42,
     "metadata": {},
     "output_type": "execute_result"
    }
   ],
   "source": [
    "# Drop the columns [\"originalTitle\", \"isAdult\", \"endYear\"] \n",
    "movies_df.drop([\"originalTitle\", \"isAdult\", \"endYear\"], axis=1, inplace=True)\n",
    "\n",
    "# Check the remaining columns by the columns attribute\n",
    "movies_df.columns"
   ]
  },
  {
   "cell_type": "markdown",
   "id": "afd3e419",
   "metadata": {},
   "source": [
    "### Missing Values\n",
    "\n",
    "We need to treat string and numerical variables separately and handle the missing values properly. As an example, we shall first check how many numeric entries the `runtimeMinutes` has. For this, you can call the `pandas.Series.str` functions (`isnumeric` to check whether it is a number)."
   ]
  },
  {
   "cell_type": "code",
   "execution_count": 43,
   "id": "97cea1d3",
   "metadata": {},
   "outputs": [
    {
     "name": "stdout",
     "output_type": "stream",
     "text": [
      "6902190\n",
      "2377547\n"
     ]
    }
   ],
   "source": [
    "# Print the number of entries \n",
    "print(movies_df.shape[0])\n",
    "    \n",
    "# Print the number of numeric entries of the runtimeMinutes column\n",
    "print(movies_df.runtimeMinutes.str.isnumeric().sum())"
   ]
  },
  {
   "cell_type": "markdown",
   "id": "b1b10878",
   "metadata": {},
   "source": [
    "The missing values in this data set are encoded as `\\N`, which we replace with `None` to be properly handled by pandas. We use the `replace()` method to replace a given value with a desired value, in our case `\\N` with `None`. \n",
    "\n",
    "Note that all variables are currently held as `object` type, which is used when there is mixed datatype and for strings. As we will see, Pandas cannot infer the correct data types in this case due to missing values being recorded as string. We want to ultimately cast to the following data types:\n",
    "- 'titleType': 'string'\n",
    "- 'primaryTitle': 'string'\n",
    "- 'startYear': 'Int64'\n",
    "- 'runtimeMinutes': 'float64'\n",
    "- 'genres': 'string'"
   ]
  },
  {
   "cell_type": "code",
   "execution_count": 44,
   "id": "182e5b56",
   "metadata": {},
   "outputs": [],
   "source": [
    "# Replace the missing value place holder \\\\N with None (missing value indicator)\n",
    "movies_df.replace('\\\\N', np.nan, inplace=True)"
   ]
  },
  {
   "cell_type": "markdown",
   "id": "dc63924c",
   "metadata": {},
   "source": [
    "We shall now check whether the numeric variables truely hold numeric entries. "
   ]
  },
  {
   "cell_type": "code",
   "execution_count": 45,
   "id": "2c3a39d0",
   "metadata": {},
   "outputs": [
    {
     "name": "stdout",
     "output_type": "stream",
     "text": [
      "6902190 6383293 0\n",
      "6902190 2377547 10\n"
     ]
    }
   ],
   "source": [
    "# Print the number of rows in the dataframe and the number of rows with numeric entries and non-numeric entries\n",
    "# for the 'startYear' column\n",
    "print(movies_df.shape[0],\n",
    "      np.sum(movies_df['startYear'].str.isnumeric() == True), \n",
    "      np.sum(movies_df['startYear'].str.isnumeric() == False))\n",
    "\n",
    "# for the 'runtimeMinutes' column\n",
    "print(movies_df.shape[0],\n",
    "      np.sum(movies_df['runtimeMinutes'].str.isnumeric() == True), \n",
    "      np.sum(movies_df['runtimeMinutes'].str.isnumeric() == False))"
   ]
  },
  {
   "cell_type": "markdown",
   "id": "5a4d83cf",
   "metadata": {},
   "source": [
    "Since we see a mismatch in the runtimeMinutes, let's inspect the column and find the source of the problem. For this we will select the rows where the entry is not numeric passing a boolean array. If you have a dataframe `X` and you select the rows where the column `c1` satisfies a certain condition (say is negative) by `X[X['c1'] < 0]`. "
   ]
  },
  {
   "cell_type": "code",
   "execution_count": 46,
   "id": "4299fe7a",
   "metadata": {},
   "outputs": [
    {
     "data": {
      "text/html": [
       "<div>\n",
       "<style scoped>\n",
       "    .dataframe tbody tr th:only-of-type {\n",
       "        vertical-align: middle;\n",
       "    }\n",
       "\n",
       "    .dataframe tbody tr th {\n",
       "        vertical-align: top;\n",
       "    }\n",
       "\n",
       "    .dataframe thead th {\n",
       "        text-align: right;\n",
       "    }\n",
       "</style>\n",
       "<table border=\"1\" class=\"dataframe\">\n",
       "  <thead>\n",
       "    <tr style=\"text-align: right;\">\n",
       "      <th></th>\n",
       "      <th>titleType</th>\n",
       "      <th>primaryTitle</th>\n",
       "      <th>startYear</th>\n",
       "      <th>runtimeMinutes</th>\n",
       "      <th>genres</th>\n",
       "    </tr>\n",
       "    <tr>\n",
       "      <th>tconst</th>\n",
       "      <th></th>\n",
       "      <th></th>\n",
       "      <th></th>\n",
       "      <th></th>\n",
       "      <th></th>\n",
       "    </tr>\n",
       "  </thead>\n",
       "  <tbody>\n",
       "    <tr>\n",
       "      <th>tt10233364</th>\n",
       "      <td>tvEpisode</td>\n",
       "      <td>Rolling in the Deep Dish\\tRolling in the Deep ...</td>\n",
       "      <td>NaN</td>\n",
       "      <td>Reality-TV</td>\n",
       "      <td>NaN</td>\n",
       "    </tr>\n",
       "    <tr>\n",
       "      <th>tt10970874</th>\n",
       "      <td>tvEpisode</td>\n",
       "      <td>Die Bauhaus-Stadt Tel Aviv - Vorbild für die M...</td>\n",
       "      <td>NaN</td>\n",
       "      <td>Talk-Show</td>\n",
       "      <td>NaN</td>\n",
       "    </tr>\n",
       "    <tr>\n",
       "      <th>tt11670006</th>\n",
       "      <td>tvEpisode</td>\n",
       "      <td>...ein angenehmer Unbequemer...\\t...ein angene...</td>\n",
       "      <td>NaN</td>\n",
       "      <td>Documentary</td>\n",
       "      <td>NaN</td>\n",
       "    </tr>\n",
       "    <tr>\n",
       "      <th>tt11868642</th>\n",
       "      <td>tvEpisode</td>\n",
       "      <td>GGN Heavyweight Championship Lungs With Mike T...</td>\n",
       "      <td>NaN</td>\n",
       "      <td>Talk-Show</td>\n",
       "      <td>NaN</td>\n",
       "    </tr>\n",
       "    <tr>\n",
       "      <th>tt12149332</th>\n",
       "      <td>tvEpisode</td>\n",
       "      <td>Jeopardy! College Championship Semifinal Game ...</td>\n",
       "      <td>NaN</td>\n",
       "      <td>Game-Show</td>\n",
       "      <td>NaN</td>\n",
       "    </tr>\n",
       "    <tr>\n",
       "      <th>tt12415330</th>\n",
       "      <td>tvEpisode</td>\n",
       "      <td>Anthony Davis High Brow Tank\\tAnthony Davis Hi...</td>\n",
       "      <td>NaN</td>\n",
       "      <td>Reality-TV</td>\n",
       "      <td>NaN</td>\n",
       "    </tr>\n",
       "    <tr>\n",
       "      <th>tt13704268</th>\n",
       "      <td>tvEpisode</td>\n",
       "      <td>Bay of the Triffids/Doctor of Doom\\tBay of the...</td>\n",
       "      <td>NaN</td>\n",
       "      <td>Animation,Comedy,Family</td>\n",
       "      <td>NaN</td>\n",
       "    </tr>\n",
       "    <tr>\n",
       "      <th>tt3984412</th>\n",
       "      <td>tvEpisode</td>\n",
       "      <td>I'm Not Going to Come Last, I'm Just Going to ...</td>\n",
       "      <td>NaN</td>\n",
       "      <td>Game-Show,Reality-TV</td>\n",
       "      <td>NaN</td>\n",
       "    </tr>\n",
       "    <tr>\n",
       "      <th>tt9822816</th>\n",
       "      <td>tvEpisode</td>\n",
       "      <td>Zwischen Vertuschung und Aufklärung - Missbrau...</td>\n",
       "      <td>NaN</td>\n",
       "      <td>Talk-Show</td>\n",
       "      <td>NaN</td>\n",
       "    </tr>\n",
       "    <tr>\n",
       "      <th>tt9909210</th>\n",
       "      <td>tvEpisode</td>\n",
       "      <td>Politik und/oder Moral - Wie weit geht das Ver...</td>\n",
       "      <td>NaN</td>\n",
       "      <td>Talk-Show</td>\n",
       "      <td>NaN</td>\n",
       "    </tr>\n",
       "  </tbody>\n",
       "</table>\n",
       "</div>"
      ],
      "text/plain": [
       "            titleType                                       primaryTitle  \\\n",
       "tconst                                                                     \n",
       "tt10233364  tvEpisode  Rolling in the Deep Dish\\tRolling in the Deep ...   \n",
       "tt10970874  tvEpisode  Die Bauhaus-Stadt Tel Aviv - Vorbild für die M...   \n",
       "tt11670006  tvEpisode  ...ein angenehmer Unbequemer...\\t...ein angene...   \n",
       "tt11868642  tvEpisode  GGN Heavyweight Championship Lungs With Mike T...   \n",
       "tt12149332  tvEpisode  Jeopardy! College Championship Semifinal Game ...   \n",
       "tt12415330  tvEpisode  Anthony Davis High Brow Tank\\tAnthony Davis Hi...   \n",
       "tt13704268  tvEpisode  Bay of the Triffids/Doctor of Doom\\tBay of the...   \n",
       "tt3984412   tvEpisode  I'm Not Going to Come Last, I'm Just Going to ...   \n",
       "tt9822816   tvEpisode  Zwischen Vertuschung und Aufklärung - Missbrau...   \n",
       "tt9909210   tvEpisode  Politik und/oder Moral - Wie weit geht das Ver...   \n",
       "\n",
       "           startYear           runtimeMinutes genres  \n",
       "tconst                                                \n",
       "tt10233364       NaN               Reality-TV    NaN  \n",
       "tt10970874       NaN                Talk-Show    NaN  \n",
       "tt11670006       NaN              Documentary    NaN  \n",
       "tt11868642       NaN                Talk-Show    NaN  \n",
       "tt12149332       NaN                Game-Show    NaN  \n",
       "tt12415330       NaN               Reality-TV    NaN  \n",
       "tt13704268       NaN  Animation,Comedy,Family    NaN  \n",
       "tt3984412        NaN     Game-Show,Reality-TV    NaN  \n",
       "tt9822816        NaN                Talk-Show    NaN  \n",
       "tt9909210        NaN                Talk-Show    NaN  "
      ]
     },
     "execution_count": 46,
     "metadata": {},
     "output_type": "execute_result"
    }
   ],
   "source": [
    "# print the rows of the dataframe in which the `runTimeMinutes` is not numeric\n",
    "movies_df[movies_df['runtimeMinutes'].str.isnumeric() == False]"
   ]
  },
  {
   "cell_type": "code",
   "execution_count": 47,
   "id": "46fc69d7",
   "metadata": {},
   "outputs": [],
   "source": [
    "# Replace non-numeric runtimeMinutes with missing values\n",
    "movies_df.loc[movies_df['runtimeMinutes'].str.isnumeric() == False, 'runtimeMinutes'] = np.nan"
   ]
  },
  {
   "cell_type": "markdown",
   "id": "baf75ad2",
   "metadata": {},
   "source": [
    "We are now ready to correct the data types by using the method `astype()` to which we pass a dictionary of data types. Note that we cast 'startYear' as 'float64' first and then to 'Int64' because the 'object' type can be converted to float64 but not Int64 when there are missing values. A work-around is to first convert to float64 and then to int 64."
   ]
  },
  {
   "cell_type": "code",
   "execution_count": 48,
   "id": "07a21959",
   "metadata": {},
   "outputs": [
    {
     "name": "stdout",
     "output_type": "stream",
     "text": [
      "<class 'pandas.core.frame.DataFrame'>\n",
      "Index: 6902190 entries, tt0000001 to tt9916880\n",
      "Data columns (total 5 columns):\n",
      " #   Column          Dtype  \n",
      "---  ------          -----  \n",
      " 0   titleType       string \n",
      " 1   primaryTitle    string \n",
      " 2   startYear       Int16  \n",
      " 3   runtimeMinutes  float32\n",
      " 4   genres          string \n",
      "dtypes: Int16(1), float32(1), string(3)\n",
      "memory usage: 514.7+ MB\n"
     ]
    }
   ],
   "source": [
    "# Column dataypes\n",
    "column_types = {'titleType': 'string', 'primaryTitle': 'string', 'startYear': 'float32', \n",
    "                'runtimeMinutes': 'float32', 'genres': 'string'}\n",
    "# Convert all data types using the dictionary\n",
    "movies_df = movies_df.astype(column_types) \n",
    "\n",
    "# Correct the data type for startYear\n",
    "movies_df['startYear'] = movies_df['startYear'].astype('Int16')\n",
    "\n",
    "# Check the variables and data types\n",
    "movies_df.info()"
   ]
  },
  {
   "cell_type": "markdown",
   "id": "11a612de",
   "metadata": {},
   "source": [
    "We shall now inspect missing values. You can use the `isna()` method to obtain a data frame which holds a value `True` for cells where the data is missing."
   ]
  },
  {
   "cell_type": "code",
   "execution_count": 49,
   "id": "dd62dee4",
   "metadata": {},
   "outputs": [
    {
     "data": {
      "text/plain": [
       "titleType               0\n",
       "primaryTitle           10\n",
       "startYear          518897\n",
       "runtimeMinutes    4524643\n",
       "genres             268963\n",
       "dtype: int64"
      ]
     },
     "execution_count": 49,
     "metadata": {},
     "output_type": "execute_result"
    }
   ],
   "source": [
    "# Find how many missing values there are for each variable\n",
    "movies_df.isna().sum(axis=0)"
   ]
  },
  {
   "cell_type": "markdown",
   "id": "8d799b7d",
   "metadata": {},
   "source": [
    "We have only a handful of missing values in the 'Primary Title'. We will exclude those without title.  For this, we use the `dropna()` method. You can specify when to drop, i.e. in which column when there is a missing value, by specifying the `subset` argument."
   ]
  },
  {
   "cell_type": "code",
   "execution_count": 50,
   "id": "f5597da1",
   "metadata": {},
   "outputs": [],
   "source": [
    "# Drop rows if they do not have a title\n",
    "movies_df.dropna(subset=['primaryTitle'], inplace=True)"
   ]
  },
  {
   "cell_type": "markdown",
   "id": "be006398",
   "metadata": {},
   "source": [
    " Let's drop cells if both `runtimeMinutes` and `genres` are missing. For this, you can use the `how='all'` argument of the `dropna()` method."
   ]
  },
  {
   "cell_type": "code",
   "execution_count": 51,
   "id": "8d28c937",
   "metadata": {},
   "outputs": [],
   "source": [
    "# If both runtimeMinutes and genres are missing, drop that row\n",
    "movies_df.dropna(subset=['runtimeMinutes', 'genres'], how='all', inplace=True)\n",
    "\n",
    "# Create a new data_frame by selecting only movies (titleType = 'movie') that were produced after 2000\n",
    "movies_selected_df = movies_df[(movies_df.titleType == 'movie') & (movies_df.startYear >= 2000)].copy()"
   ]
  },
  {
   "cell_type": "markdown",
   "id": "91527349",
   "metadata": {},
   "source": [
    "We now drop the 'titleType' field, which is now always movie, hence not needed, rename the variables for convenience, and sort according to a given variable. The `rename()` method takes a dictionary as the columns arguments in the format {var1_old_name: var1_new_name, var2_old_name: var2_new_name}. We then sort the data in the ascending order of year by using the `sort_values()` method by setting the keyword argument `ascending=False`."
   ]
  },
  {
   "cell_type": "code",
   "execution_count": 52,
   "id": "eb0d91bc",
   "metadata": {},
   "outputs": [
    {
     "data": {
      "text/html": [
       "<div>\n",
       "<style scoped>\n",
       "    .dataframe tbody tr th:only-of-type {\n",
       "        vertical-align: middle;\n",
       "    }\n",
       "\n",
       "    .dataframe tbody tr th {\n",
       "        vertical-align: top;\n",
       "    }\n",
       "\n",
       "    .dataframe thead th {\n",
       "        text-align: right;\n",
       "    }\n",
       "</style>\n",
       "<table border=\"1\" class=\"dataframe\">\n",
       "  <thead>\n",
       "    <tr style=\"text-align: right;\">\n",
       "      <th></th>\n",
       "      <th>movie</th>\n",
       "      <th>year</th>\n",
       "      <th>minutes</th>\n",
       "      <th>genres</th>\n",
       "    </tr>\n",
       "    <tr>\n",
       "      <th>tconst</th>\n",
       "      <th></th>\n",
       "      <th></th>\n",
       "      <th></th>\n",
       "      <th></th>\n",
       "    </tr>\n",
       "  </thead>\n",
       "  <tbody>\n",
       "    <tr>\n",
       "      <th>tt0265180</th>\n",
       "      <td>Expecting Mercy</td>\n",
       "      <td>2000</td>\n",
       "      <td>82.0</td>\n",
       "      <td>Thriller</td>\n",
       "    </tr>\n",
       "    <tr>\n",
       "      <th>tt0424986</th>\n",
       "      <td>The Headmaster</td>\n",
       "      <td>2000</td>\n",
       "      <td>120.0</td>\n",
       "      <td>Comedy</td>\n",
       "    </tr>\n",
       "    <tr>\n",
       "      <th>tt0263971</th>\n",
       "      <td>The Scarecrow</td>\n",
       "      <td>2000</td>\n",
       "      <td>81.0</td>\n",
       "      <td>Animation,Family,Fantasy</td>\n",
       "    </tr>\n",
       "    <tr>\n",
       "      <th>tt0263963</th>\n",
       "      <td>By Player</td>\n",
       "      <td>2000</td>\n",
       "      <td>126.0</td>\n",
       "      <td>Drama,Romance</td>\n",
       "    </tr>\n",
       "    <tr>\n",
       "      <th>tt0263957</th>\n",
       "      <td>The Iron Ladies</td>\n",
       "      <td>2000</td>\n",
       "      <td>104.0</td>\n",
       "      <td>Comedy,Drama,Sport</td>\n",
       "    </tr>\n",
       "    <tr>\n",
       "      <th>tt4060410</th>\n",
       "      <td>Aizome Kyôko: G no kaikan</td>\n",
       "      <td>2000</td>\n",
       "      <td>59.0</td>\n",
       "      <td>&lt;NA&gt;</td>\n",
       "    </tr>\n",
       "    <tr>\n",
       "      <th>tt0263926</th>\n",
       "      <td>Red Deer</td>\n",
       "      <td>2000</td>\n",
       "      <td>104.0</td>\n",
       "      <td>Drama</td>\n",
       "    </tr>\n",
       "    <tr>\n",
       "      <th>tt0263916</th>\n",
       "      <td>The Little Prince's Rap Against the Wicked Souls</td>\n",
       "      <td>2000</td>\n",
       "      <td>75.0</td>\n",
       "      <td>Documentary</td>\n",
       "    </tr>\n",
       "    <tr>\n",
       "      <th>tt0263905</th>\n",
       "      <td>Protection</td>\n",
       "      <td>2000</td>\n",
       "      <td>77.0</td>\n",
       "      <td>Drama</td>\n",
       "    </tr>\n",
       "    <tr>\n",
       "      <th>tt0263903</th>\n",
       "      <td>Prophets and Poets</td>\n",
       "      <td>2000</td>\n",
       "      <td>88.0</td>\n",
       "      <td>Documentary</td>\n",
       "    </tr>\n",
       "    <tr>\n",
       "      <th>tt7891396</th>\n",
       "      <td>Monotony</td>\n",
       "      <td>2000</td>\n",
       "      <td>98.0</td>\n",
       "      <td>Drama</td>\n",
       "    </tr>\n",
       "    <tr>\n",
       "      <th>tt1514832</th>\n",
       "      <td>Life Is a Dream: A Street Poet in New York</td>\n",
       "      <td>2000</td>\n",
       "      <td>55.0</td>\n",
       "      <td>Documentary</td>\n",
       "    </tr>\n",
       "    <tr>\n",
       "      <th>tt0263868</th>\n",
       "      <td>Backdoor</td>\n",
       "      <td>2000</td>\n",
       "      <td>105.0</td>\n",
       "      <td>Drama</td>\n",
       "    </tr>\n",
       "    <tr>\n",
       "      <th>tt0263848</th>\n",
       "      <td>Pay the Price</td>\n",
       "      <td>2000</td>\n",
       "      <td>NaN</td>\n",
       "      <td>Drama</td>\n",
       "    </tr>\n",
       "    <tr>\n",
       "      <th>tt0263840</th>\n",
       "      <td>Parsley Days</td>\n",
       "      <td>2000</td>\n",
       "      <td>79.0</td>\n",
       "      <td>Drama,Romance</td>\n",
       "    </tr>\n",
       "    <tr>\n",
       "      <th>tt0263824</th>\n",
       "      <td>The Other Side</td>\n",
       "      <td>2000</td>\n",
       "      <td>130.0</td>\n",
       "      <td>Drama</td>\n",
       "    </tr>\n",
       "    <tr>\n",
       "      <th>tt0264029</th>\n",
       "      <td>O Sonho de Rose - 10 Anos Depois</td>\n",
       "      <td>2000</td>\n",
       "      <td>92.0</td>\n",
       "      <td>Documentary</td>\n",
       "    </tr>\n",
       "    <tr>\n",
       "      <th>tt0264034</th>\n",
       "      <td>Sporen van beschaving - De trein naar Grozny</td>\n",
       "      <td>2000</td>\n",
       "      <td>50.0</td>\n",
       "      <td>Documentary</td>\n",
       "    </tr>\n",
       "    <tr>\n",
       "      <th>tt12132760</th>\n",
       "      <td>Kuberan</td>\n",
       "      <td>2000</td>\n",
       "      <td>NaN</td>\n",
       "      <td>Family</td>\n",
       "    </tr>\n",
       "    <tr>\n",
       "      <th>tt0264056</th>\n",
       "      <td>Pickpocket</td>\n",
       "      <td>2000</td>\n",
       "      <td>112.0</td>\n",
       "      <td>Crime</td>\n",
       "    </tr>\n",
       "  </tbody>\n",
       "</table>\n",
       "</div>"
      ],
      "text/plain": [
       "                                                       movie  year  minutes  \\\n",
       "tconst                                                                        \n",
       "tt0265180                                    Expecting Mercy  2000     82.0   \n",
       "tt0424986                                     The Headmaster  2000    120.0   \n",
       "tt0263971                                      The Scarecrow  2000     81.0   \n",
       "tt0263963                                          By Player  2000    126.0   \n",
       "tt0263957                                    The Iron Ladies  2000    104.0   \n",
       "tt4060410                          Aizome Kyôko: G no kaikan  2000     59.0   \n",
       "tt0263926                                           Red Deer  2000    104.0   \n",
       "tt0263916   The Little Prince's Rap Against the Wicked Souls  2000     75.0   \n",
       "tt0263905                                         Protection  2000     77.0   \n",
       "tt0263903                                 Prophets and Poets  2000     88.0   \n",
       "tt7891396                                           Monotony  2000     98.0   \n",
       "tt1514832         Life Is a Dream: A Street Poet in New York  2000     55.0   \n",
       "tt0263868                                           Backdoor  2000    105.0   \n",
       "tt0263848                                      Pay the Price  2000      NaN   \n",
       "tt0263840                                       Parsley Days  2000     79.0   \n",
       "tt0263824                                     The Other Side  2000    130.0   \n",
       "tt0264029                   O Sonho de Rose - 10 Anos Depois  2000     92.0   \n",
       "tt0264034       Sporen van beschaving - De trein naar Grozny  2000     50.0   \n",
       "tt12132760                                           Kuberan  2000      NaN   \n",
       "tt0264056                                         Pickpocket  2000    112.0   \n",
       "\n",
       "                              genres  \n",
       "tconst                                \n",
       "tt0265180                   Thriller  \n",
       "tt0424986                     Comedy  \n",
       "tt0263971   Animation,Family,Fantasy  \n",
       "tt0263963              Drama,Romance  \n",
       "tt0263957         Comedy,Drama,Sport  \n",
       "tt4060410                       <NA>  \n",
       "tt0263926                      Drama  \n",
       "tt0263916                Documentary  \n",
       "tt0263905                      Drama  \n",
       "tt0263903                Documentary  \n",
       "tt7891396                      Drama  \n",
       "tt1514832                Documentary  \n",
       "tt0263868                      Drama  \n",
       "tt0263848                      Drama  \n",
       "tt0263840              Drama,Romance  \n",
       "tt0263824                      Drama  \n",
       "tt0264029                Documentary  \n",
       "tt0264034                Documentary  \n",
       "tt12132760                    Family  \n",
       "tt0264056                      Crime  "
      ]
     },
     "execution_count": 52,
     "metadata": {},
     "output_type": "execute_result"
    }
   ],
   "source": [
    "# Drop the column \"titleType\"\n",
    "movies_selected_df.drop('titleType', axis = 1, inplace = True)\n",
    "\n",
    "# Rename the variables\n",
    "movies_selected_df.rename(columns = {'primaryTitle': 'movie', \n",
    "                            'startYear': 'year', \n",
    "                            'runtimeMinutes': 'minutes'}, \n",
    "                          inplace = True)\n",
    "\n",
    "# sort the dataframe wrt year in-place\n",
    "movies_selected_df.sort_values('year', inplace=True)\n",
    "\n",
    "# show the head of the dataframe\n",
    "movies_selected_df.head(20)"
   ]
  },
  {
   "cell_type": "markdown",
   "id": "b3495dfe",
   "metadata": {},
   "source": [
    "We can now impute the `minutes` by the median `minutes`. For this, we can use the `fillna()` method with the median as the positional argument."
   ]
  },
  {
   "cell_type": "code",
   "execution_count": 53,
   "id": "96ad74de",
   "metadata": {},
   "outputs": [
    {
     "data": {
      "text/html": [
       "<div>\n",
       "<style scoped>\n",
       "    .dataframe tbody tr th:only-of-type {\n",
       "        vertical-align: middle;\n",
       "    }\n",
       "\n",
       "    .dataframe tbody tr th {\n",
       "        vertical-align: top;\n",
       "    }\n",
       "\n",
       "    .dataframe thead th {\n",
       "        text-align: right;\n",
       "    }\n",
       "</style>\n",
       "<table border=\"1\" class=\"dataframe\">\n",
       "  <thead>\n",
       "    <tr style=\"text-align: right;\">\n",
       "      <th></th>\n",
       "      <th>movie</th>\n",
       "      <th>year</th>\n",
       "      <th>minutes</th>\n",
       "      <th>genres</th>\n",
       "    </tr>\n",
       "    <tr>\n",
       "      <th>tconst</th>\n",
       "      <th></th>\n",
       "      <th></th>\n",
       "      <th></th>\n",
       "      <th></th>\n",
       "    </tr>\n",
       "  </thead>\n",
       "  <tbody>\n",
       "    <tr>\n",
       "      <th>tt0265180</th>\n",
       "      <td>Expecting Mercy</td>\n",
       "      <td>2000</td>\n",
       "      <td>82.0</td>\n",
       "      <td>Thriller</td>\n",
       "    </tr>\n",
       "    <tr>\n",
       "      <th>tt0424986</th>\n",
       "      <td>The Headmaster</td>\n",
       "      <td>2000</td>\n",
       "      <td>120.0</td>\n",
       "      <td>Comedy</td>\n",
       "    </tr>\n",
       "    <tr>\n",
       "      <th>tt0263971</th>\n",
       "      <td>The Scarecrow</td>\n",
       "      <td>2000</td>\n",
       "      <td>81.0</td>\n",
       "      <td>Animation,Family,Fantasy</td>\n",
       "    </tr>\n",
       "    <tr>\n",
       "      <th>tt0263963</th>\n",
       "      <td>By Player</td>\n",
       "      <td>2000</td>\n",
       "      <td>126.0</td>\n",
       "      <td>Drama,Romance</td>\n",
       "    </tr>\n",
       "    <tr>\n",
       "      <th>tt0263957</th>\n",
       "      <td>The Iron Ladies</td>\n",
       "      <td>2000</td>\n",
       "      <td>104.0</td>\n",
       "      <td>Comedy,Drama,Sport</td>\n",
       "    </tr>\n",
       "  </tbody>\n",
       "</table>\n",
       "</div>"
      ],
      "text/plain": [
       "                     movie  year  minutes                    genres\n",
       "tconst                                                             \n",
       "tt0265180  Expecting Mercy  2000     82.0                  Thriller\n",
       "tt0424986   The Headmaster  2000    120.0                    Comedy\n",
       "tt0263971    The Scarecrow  2000     81.0  Animation,Family,Fantasy\n",
       "tt0263963        By Player  2000    126.0             Drama,Romance\n",
       "tt0263957  The Iron Ladies  2000    104.0        Comedy,Drama,Sport"
      ]
     },
     "execution_count": 53,
     "metadata": {},
     "output_type": "execute_result"
    }
   ],
   "source": [
    "# Impute any missing values in the minutes column by its median\n",
    "movies_selected_df['minutes'] = movies_selected_df.minutes.fillna(movies_selected_df.minutes.median())\n",
    "\n",
    "# show the head of the dataframe\n",
    "movies_selected_df.head()"
   ]
  },
  {
   "cell_type": "markdown",
   "id": "33e7549e",
   "metadata": {},
   "source": [
    "### DataFrame Merging\n",
    "We shall now merge the user ratings data with the movie dataframe. For this, we shall first read the title.ratings.tsv.gz dataset to a dataframe as we did for the first data set. Here, we will directly specify the index column, which is `tconst` as for the movie dataframe. This is done by passing the argument `index_col = 'tconst'`. We also set the data types by setting the `dtype` to corresponding data type.   "
   ]
  },
  {
   "cell_type": "code",
   "execution_count": 54,
   "id": "972b5d08",
   "metadata": {},
   "outputs": [
    {
     "data": {
      "text/html": [
       "<div>\n",
       "<style scoped>\n",
       "    .dataframe tbody tr th:only-of-type {\n",
       "        vertical-align: middle;\n",
       "    }\n",
       "\n",
       "    .dataframe tbody tr th {\n",
       "        vertical-align: top;\n",
       "    }\n",
       "\n",
       "    .dataframe thead th {\n",
       "        text-align: right;\n",
       "    }\n",
       "</style>\n",
       "<table border=\"1\" class=\"dataframe\">\n",
       "  <thead>\n",
       "    <tr style=\"text-align: right;\">\n",
       "      <th></th>\n",
       "      <th>averageRating</th>\n",
       "      <th>numVotes</th>\n",
       "    </tr>\n",
       "    <tr>\n",
       "      <th>tconst</th>\n",
       "      <th></th>\n",
       "      <th></th>\n",
       "    </tr>\n",
       "  </thead>\n",
       "  <tbody>\n",
       "    <tr>\n",
       "      <th>tt0000001</th>\n",
       "      <td>5.7</td>\n",
       "      <td>1882</td>\n",
       "    </tr>\n",
       "    <tr>\n",
       "      <th>tt0000002</th>\n",
       "      <td>5.9</td>\n",
       "      <td>250</td>\n",
       "    </tr>\n",
       "    <tr>\n",
       "      <th>tt0000003</th>\n",
       "      <td>6.5</td>\n",
       "      <td>1661</td>\n",
       "    </tr>\n",
       "    <tr>\n",
       "      <th>tt0000004</th>\n",
       "      <td>5.8</td>\n",
       "      <td>163</td>\n",
       "    </tr>\n",
       "    <tr>\n",
       "      <th>tt0000005</th>\n",
       "      <td>6.2</td>\n",
       "      <td>2486</td>\n",
       "    </tr>\n",
       "  </tbody>\n",
       "</table>\n",
       "</div>"
      ],
      "text/plain": [
       "           averageRating  numVotes\n",
       "tconst                            \n",
       "tt0000001            5.7      1882\n",
       "tt0000002            5.9       250\n",
       "tt0000003            6.5      1661\n",
       "tt0000004            5.8       163\n",
       "tt0000005            6.2      2486"
      ]
     },
     "execution_count": 54,
     "metadata": {},
     "output_type": "execute_result"
    }
   ],
   "source": [
    "# Read the dataset title_ratings.tsv to a dataframe and set the index and the data types\n",
    "ratings_df = pd.read_csv(\"title.ratings.tsv.gz\", index_col = \"tconst\", \n",
    "                         dtype = {'averageRating': 'float64', 'numVotes': 'Int64'}, \n",
    "                         sep = '\\t')\n",
    "\n",
    "#Show top rows\n",
    "ratings_df.head()"
   ]
  },
  {
   "cell_type": "markdown",
   "id": "3074d393",
   "metadata": {},
   "source": [
    "As you can see, it associates the same identifier `tconst` with the `averageRating` and `numVotes` variables.\n",
    "\n",
    "Pandas `merge` method allows merging a dataset with another dataset. Here, we use the index `tconst` for matching the two dataframes, by setting the arguments `left_index = True` and `right_index = True`. This means that if two rows in the two datasets have the same index value, they belong to the same entity (movie). The argument `how = 'inner'` specifies that all rows of the left and right frames should match. If there are non-matching indices in either, those rows are excluded."
   ]
  },
  {
   "cell_type": "code",
   "execution_count": 55,
   "id": "15e40006",
   "metadata": {},
   "outputs": [
    {
     "data": {
      "text/html": [
       "<div>\n",
       "<style scoped>\n",
       "    .dataframe tbody tr th:only-of-type {\n",
       "        vertical-align: middle;\n",
       "    }\n",
       "\n",
       "    .dataframe tbody tr th {\n",
       "        vertical-align: top;\n",
       "    }\n",
       "\n",
       "    .dataframe thead th {\n",
       "        text-align: right;\n",
       "    }\n",
       "</style>\n",
       "<table border=\"1\" class=\"dataframe\">\n",
       "  <thead>\n",
       "    <tr style=\"text-align: right;\">\n",
       "      <th></th>\n",
       "      <th>movie</th>\n",
       "      <th>year</th>\n",
       "      <th>minutes</th>\n",
       "      <th>genres</th>\n",
       "      <th>averageRating</th>\n",
       "      <th>numVotes</th>\n",
       "    </tr>\n",
       "    <tr>\n",
       "      <th>tconst</th>\n",
       "      <th></th>\n",
       "      <th></th>\n",
       "      <th></th>\n",
       "      <th></th>\n",
       "      <th></th>\n",
       "      <th></th>\n",
       "    </tr>\n",
       "  </thead>\n",
       "  <tbody>\n",
       "    <tr>\n",
       "      <th>tt0265180</th>\n",
       "      <td>Expecting Mercy</td>\n",
       "      <td>2000</td>\n",
       "      <td>82.0</td>\n",
       "      <td>Thriller</td>\n",
       "      <td>4.8</td>\n",
       "      <td>123</td>\n",
       "    </tr>\n",
       "    <tr>\n",
       "      <th>tt0424986</th>\n",
       "      <td>The Headmaster</td>\n",
       "      <td>2000</td>\n",
       "      <td>120.0</td>\n",
       "      <td>Comedy</td>\n",
       "      <td>7.9</td>\n",
       "      <td>3436</td>\n",
       "    </tr>\n",
       "    <tr>\n",
       "      <th>tt0263971</th>\n",
       "      <td>The Scarecrow</td>\n",
       "      <td>2000</td>\n",
       "      <td>81.0</td>\n",
       "      <td>Animation,Family,Fantasy</td>\n",
       "      <td>6.3</td>\n",
       "      <td>246</td>\n",
       "    </tr>\n",
       "    <tr>\n",
       "      <th>tt0263963</th>\n",
       "      <td>By Player</td>\n",
       "      <td>2000</td>\n",
       "      <td>126.0</td>\n",
       "      <td>Drama,Romance</td>\n",
       "      <td>6.9</td>\n",
       "      <td>112</td>\n",
       "    </tr>\n",
       "    <tr>\n",
       "      <th>tt0263957</th>\n",
       "      <td>The Iron Ladies</td>\n",
       "      <td>2000</td>\n",
       "      <td>104.0</td>\n",
       "      <td>Comedy,Drama,Sport</td>\n",
       "      <td>6.5</td>\n",
       "      <td>1417</td>\n",
       "    </tr>\n",
       "  </tbody>\n",
       "</table>\n",
       "</div>"
      ],
      "text/plain": [
       "                     movie  year  minutes                    genres  \\\n",
       "tconst                                                                \n",
       "tt0265180  Expecting Mercy  2000     82.0                  Thriller   \n",
       "tt0424986   The Headmaster  2000    120.0                    Comedy   \n",
       "tt0263971    The Scarecrow  2000     81.0  Animation,Family,Fantasy   \n",
       "tt0263963        By Player  2000    126.0             Drama,Romance   \n",
       "tt0263957  The Iron Ladies  2000    104.0        Comedy,Drama,Sport   \n",
       "\n",
       "           averageRating  numVotes  \n",
       "tconst                              \n",
       "tt0265180            4.8       123  \n",
       "tt0424986            7.9      3436  \n",
       "tt0263971            6.3       246  \n",
       "tt0263963            6.9       112  \n",
       "tt0263957            6.5      1417  "
      ]
     },
     "execution_count": 55,
     "metadata": {},
     "output_type": "execute_result"
    }
   ],
   "source": [
    "# Inner-Merge the ratings_df with movies_selected_df (key should exist in both)\n",
    "final_movies_df = movies_selected_df.merge(ratings_df, how = 'inner', left_index = True, right_index = True)\n",
    "\n",
    "# Show the head of the data frame\n",
    "final_movies_df.head()"
   ]
  },
  {
   "cell_type": "code",
   "execution_count": 56,
   "id": "c4bb7ab8",
   "metadata": {},
   "outputs": [
    {
     "data": {
      "text/plain": [
       "151816"
      ]
     },
     "execution_count": 56,
     "metadata": {},
     "output_type": "execute_result"
    }
   ],
   "source": [
    "# Check the number of entries\n",
    "final_movies_df.shape[0]"
   ]
  },
  {
   "cell_type": "markdown",
   "id": "2fc92218",
   "metadata": {},
   "source": [
    "## EDA\n",
    "\n",
    "We shall now look at the descriptive statistics for numeric variables by using the `describe` method:"
   ]
  },
  {
   "cell_type": "code",
   "execution_count": 57,
   "id": "ecbaf3d1",
   "metadata": {},
   "outputs": [
    {
     "data": {
      "text/html": [
       "<div>\n",
       "<style scoped>\n",
       "    .dataframe tbody tr th:only-of-type {\n",
       "        vertical-align: middle;\n",
       "    }\n",
       "\n",
       "    .dataframe tbody tr th {\n",
       "        vertical-align: top;\n",
       "    }\n",
       "\n",
       "    .dataframe thead th {\n",
       "        text-align: right;\n",
       "    }\n",
       "</style>\n",
       "<table border=\"1\" class=\"dataframe\">\n",
       "  <thead>\n",
       "    <tr style=\"text-align: right;\">\n",
       "      <th></th>\n",
       "      <th>year</th>\n",
       "      <th>minutes</th>\n",
       "      <th>averageRating</th>\n",
       "      <th>numVotes</th>\n",
       "    </tr>\n",
       "  </thead>\n",
       "  <tbody>\n",
       "    <tr>\n",
       "      <th>count</th>\n",
       "      <td>151816.000000</td>\n",
       "      <td>151816.00000</td>\n",
       "      <td>151816.000000</td>\n",
       "      <td>1.518160e+05</td>\n",
       "    </tr>\n",
       "    <tr>\n",
       "      <th>mean</th>\n",
       "      <td>2012.576632</td>\n",
       "      <td>94.59668</td>\n",
       "      <td>6.200705</td>\n",
       "      <td>4.459080e+03</td>\n",
       "    </tr>\n",
       "    <tr>\n",
       "      <th>std</th>\n",
       "      <td>5.818444</td>\n",
       "      <td>180.88681</td>\n",
       "      <td>1.465686</td>\n",
       "      <td>3.768273e+04</td>\n",
       "    </tr>\n",
       "    <tr>\n",
       "      <th>min</th>\n",
       "      <td>2000.000000</td>\n",
       "      <td>2.00000</td>\n",
       "      <td>1.000000</td>\n",
       "      <td>5.000000e+00</td>\n",
       "    </tr>\n",
       "    <tr>\n",
       "      <th>25%</th>\n",
       "      <td>2008.000000</td>\n",
       "      <td>83.00000</td>\n",
       "      <td>5.300000</td>\n",
       "      <td>1.900000e+01</td>\n",
       "    </tr>\n",
       "    <tr>\n",
       "      <th>50%</th>\n",
       "      <td>2013.000000</td>\n",
       "      <td>90.00000</td>\n",
       "      <td>6.400000</td>\n",
       "      <td>6.800000e+01</td>\n",
       "    </tr>\n",
       "    <tr>\n",
       "      <th>75%</th>\n",
       "      <td>2017.000000</td>\n",
       "      <td>102.00000</td>\n",
       "      <td>7.200000</td>\n",
       "      <td>3.830000e+02</td>\n",
       "    </tr>\n",
       "    <tr>\n",
       "      <th>max</th>\n",
       "      <td>2022.000000</td>\n",
       "      <td>51420.00000</td>\n",
       "      <td>10.000000</td>\n",
       "      <td>2.561011e+06</td>\n",
       "    </tr>\n",
       "  </tbody>\n",
       "</table>\n",
       "</div>"
      ],
      "text/plain": [
       "                year       minutes  averageRating      numVotes\n",
       "count  151816.000000  151816.00000  151816.000000  1.518160e+05\n",
       "mean     2012.576632      94.59668       6.200705  4.459080e+03\n",
       "std         5.818444     180.88681       1.465686  3.768273e+04\n",
       "min      2000.000000       2.00000       1.000000  5.000000e+00\n",
       "25%      2008.000000      83.00000       5.300000  1.900000e+01\n",
       "50%      2013.000000      90.00000       6.400000  6.800000e+01\n",
       "75%      2017.000000     102.00000       7.200000  3.830000e+02\n",
       "max      2022.000000   51420.00000      10.000000  2.561011e+06"
      ]
     },
     "execution_count": 57,
     "metadata": {},
     "output_type": "execute_result"
    }
   ],
   "source": [
    "# Check descriptive statistics\n",
    "final_movies_df.describe()"
   ]
  },
  {
   "cell_type": "markdown",
   "id": "073756e4",
   "metadata": {},
   "source": [
    "There seems to be some movies with very low number of votes. Hence, we shall slice only to those movies with at least 10000 votes. We shall then have a quick look at the top 10 movies with highest `averageRating`."
   ]
  },
  {
   "cell_type": "code",
   "execution_count": 58,
   "id": "0c2129d1",
   "metadata": {},
   "outputs": [
    {
     "data": {
      "text/html": [
       "<div>\n",
       "<style scoped>\n",
       "    .dataframe tbody tr th:only-of-type {\n",
       "        vertical-align: middle;\n",
       "    }\n",
       "\n",
       "    .dataframe tbody tr th {\n",
       "        vertical-align: top;\n",
       "    }\n",
       "\n",
       "    .dataframe thead th {\n",
       "        text-align: right;\n",
       "    }\n",
       "</style>\n",
       "<table border=\"1\" class=\"dataframe\">\n",
       "  <thead>\n",
       "    <tr style=\"text-align: right;\">\n",
       "      <th></th>\n",
       "      <th>movie</th>\n",
       "      <th>year</th>\n",
       "      <th>minutes</th>\n",
       "      <th>genres</th>\n",
       "      <th>averageRating</th>\n",
       "      <th>numVotes</th>\n",
       "    </tr>\n",
       "    <tr>\n",
       "      <th>tconst</th>\n",
       "      <th></th>\n",
       "      <th></th>\n",
       "      <th></th>\n",
       "      <th></th>\n",
       "      <th></th>\n",
       "      <th></th>\n",
       "    </tr>\n",
       "  </thead>\n",
       "  <tbody>\n",
       "    <tr>\n",
       "      <th>tt2592910</th>\n",
       "      <td>CM101MMXI Fundamentals</td>\n",
       "      <td>2013</td>\n",
       "      <td>139.0</td>\n",
       "      <td>Comedy,Documentary</td>\n",
       "      <td>9.1</td>\n",
       "      <td>46033</td>\n",
       "    </tr>\n",
       "    <tr>\n",
       "      <th>tt0468569</th>\n",
       "      <td>The Dark Knight</td>\n",
       "      <td>2008</td>\n",
       "      <td>152.0</td>\n",
       "      <td>Action,Crime,Drama</td>\n",
       "      <td>9.0</td>\n",
       "      <td>2561011</td>\n",
       "    </tr>\n",
       "    <tr>\n",
       "      <th>tt0167260</th>\n",
       "      <td>The Lord of the Rings: The Return of the King</td>\n",
       "      <td>2003</td>\n",
       "      <td>201.0</td>\n",
       "      <td>Action,Adventure,Drama</td>\n",
       "      <td>9.0</td>\n",
       "      <td>1779716</td>\n",
       "    </tr>\n",
       "    <tr>\n",
       "      <th>tt5354160</th>\n",
       "      <td>Mirror Game</td>\n",
       "      <td>2016</td>\n",
       "      <td>147.0</td>\n",
       "      <td>Crime,Mystery,Thriller</td>\n",
       "      <td>9.0</td>\n",
       "      <td>25931</td>\n",
       "    </tr>\n",
       "    <tr>\n",
       "      <th>tt15097216</th>\n",
       "      <td>Jai Bhim</td>\n",
       "      <td>2021</td>\n",
       "      <td>164.0</td>\n",
       "      <td>Crime,Drama,Mystery</td>\n",
       "      <td>8.9</td>\n",
       "      <td>189195</td>\n",
       "    </tr>\n",
       "    <tr>\n",
       "      <th>tt11989890</th>\n",
       "      <td>David Attenborough: A Life on Our Planet</td>\n",
       "      <td>2020</td>\n",
       "      <td>83.0</td>\n",
       "      <td>Biography,Documentary</td>\n",
       "      <td>8.9</td>\n",
       "      <td>31349</td>\n",
       "    </tr>\n",
       "    <tr>\n",
       "      <th>tt5275892</th>\n",
       "      <td>O.J.: Made in America</td>\n",
       "      <td>2016</td>\n",
       "      <td>467.0</td>\n",
       "      <td>Biography,Crime,Documentary</td>\n",
       "      <td>8.9</td>\n",
       "      <td>19554</td>\n",
       "    </tr>\n",
       "    <tr>\n",
       "      <th>tt10534500</th>\n",
       "      <td>#Home</td>\n",
       "      <td>2021</td>\n",
       "      <td>158.0</td>\n",
       "      <td>Drama</td>\n",
       "      <td>8.9</td>\n",
       "      <td>12511</td>\n",
       "    </tr>\n",
       "    <tr>\n",
       "      <th>tt1375666</th>\n",
       "      <td>Inception</td>\n",
       "      <td>2010</td>\n",
       "      <td>148.0</td>\n",
       "      <td>Action,Adventure,Sci-Fi</td>\n",
       "      <td>8.8</td>\n",
       "      <td>2272858</td>\n",
       "    </tr>\n",
       "    <tr>\n",
       "      <th>tt0120737</th>\n",
       "      <td>The Lord of the Rings: The Fellowship of the Ring</td>\n",
       "      <td>2001</td>\n",
       "      <td>178.0</td>\n",
       "      <td>Action,Adventure,Drama</td>\n",
       "      <td>8.8</td>\n",
       "      <td>1800951</td>\n",
       "    </tr>\n",
       "  </tbody>\n",
       "</table>\n",
       "</div>"
      ],
      "text/plain": [
       "                                                        movie  year  minutes  \\\n",
       "tconst                                                                         \n",
       "tt2592910                              CM101MMXI Fundamentals  2013    139.0   \n",
       "tt0468569                                     The Dark Knight  2008    152.0   \n",
       "tt0167260       The Lord of the Rings: The Return of the King  2003    201.0   \n",
       "tt5354160                                         Mirror Game  2016    147.0   \n",
       "tt15097216                                           Jai Bhim  2021    164.0   \n",
       "tt11989890           David Attenborough: A Life on Our Planet  2020     83.0   \n",
       "tt5275892                               O.J.: Made in America  2016    467.0   \n",
       "tt10534500                                              #Home  2021    158.0   \n",
       "tt1375666                                           Inception  2010    148.0   \n",
       "tt0120737   The Lord of the Rings: The Fellowship of the Ring  2001    178.0   \n",
       "\n",
       "                                 genres  averageRating  numVotes  \n",
       "tconst                                                            \n",
       "tt2592910            Comedy,Documentary            9.1     46033  \n",
       "tt0468569            Action,Crime,Drama            9.0   2561011  \n",
       "tt0167260        Action,Adventure,Drama            9.0   1779716  \n",
       "tt5354160        Crime,Mystery,Thriller            9.0     25931  \n",
       "tt15097216          Crime,Drama,Mystery            8.9    189195  \n",
       "tt11989890        Biography,Documentary            8.9     31349  \n",
       "tt5275892   Biography,Crime,Documentary            8.9     19554  \n",
       "tt10534500                        Drama            8.9     12511  \n",
       "tt1375666       Action,Adventure,Sci-Fi            8.8   2272858  \n",
       "tt0120737        Action,Adventure,Drama            8.8   1800951  "
      ]
     },
     "execution_count": 58,
     "metadata": {},
     "output_type": "execute_result"
    }
   ],
   "source": [
    "# Choose only those movies with at least 10000 votes\n",
    "final_movies_df = final_movies_df[final_movies_df.numVotes >= 10000]\n",
    "\n",
    "# Display the top 10 movies in terms of averageRating (if equal, more votes first)\n",
    "final_movies_df.sort_values(['averageRating', 'numVotes'], ascending = False).head(10)"
   ]
  },
  {
   "cell_type": "markdown",
   "id": "8ca132cb",
   "metadata": {},
   "source": [
    "We look at the correlation between numerical variables by using the `corr()` method."
   ]
  },
  {
   "cell_type": "code",
   "execution_count": 59,
   "id": "e598f1a2",
   "metadata": {},
   "outputs": [
    {
     "data": {
      "text/html": [
       "<div>\n",
       "<style scoped>\n",
       "    .dataframe tbody tr th:only-of-type {\n",
       "        vertical-align: middle;\n",
       "    }\n",
       "\n",
       "    .dataframe tbody tr th {\n",
       "        vertical-align: top;\n",
       "    }\n",
       "\n",
       "    .dataframe thead th {\n",
       "        text-align: right;\n",
       "    }\n",
       "</style>\n",
       "<table border=\"1\" class=\"dataframe\">\n",
       "  <thead>\n",
       "    <tr style=\"text-align: right;\">\n",
       "      <th></th>\n",
       "      <th>year</th>\n",
       "      <th>minutes</th>\n",
       "      <th>averageRating</th>\n",
       "      <th>numVotes</th>\n",
       "    </tr>\n",
       "  </thead>\n",
       "  <tbody>\n",
       "    <tr>\n",
       "      <th>year</th>\n",
       "      <td>1.000000</td>\n",
       "      <td>0.071305</td>\n",
       "      <td>-0.021424</td>\n",
       "      <td>-0.084298</td>\n",
       "    </tr>\n",
       "    <tr>\n",
       "      <th>minutes</th>\n",
       "      <td>0.071305</td>\n",
       "      <td>1.000000</td>\n",
       "      <td>0.356583</td>\n",
       "      <td>0.218919</td>\n",
       "    </tr>\n",
       "    <tr>\n",
       "      <th>averageRating</th>\n",
       "      <td>-0.021424</td>\n",
       "      <td>0.356583</td>\n",
       "      <td>1.000000</td>\n",
       "      <td>0.300244</td>\n",
       "    </tr>\n",
       "    <tr>\n",
       "      <th>numVotes</th>\n",
       "      <td>-0.084298</td>\n",
       "      <td>0.218919</td>\n",
       "      <td>0.300244</td>\n",
       "      <td>1.000000</td>\n",
       "    </tr>\n",
       "  </tbody>\n",
       "</table>\n",
       "</div>"
      ],
      "text/plain": [
       "                   year   minutes  averageRating  numVotes\n",
       "year           1.000000  0.071305      -0.021424 -0.084298\n",
       "minutes        0.071305  1.000000       0.356583  0.218919\n",
       "averageRating -0.021424  0.356583       1.000000  0.300244\n",
       "numVotes      -0.084298  0.218919       0.300244  1.000000"
      ]
     },
     "execution_count": 59,
     "metadata": {},
     "output_type": "execute_result"
    }
   ],
   "source": [
    "# Check the correlation coefficients \n",
    "final_movies_df.corr()"
   ]
  },
  {
   "cell_type": "markdown",
   "id": "5e0a96e6",
   "metadata": {},
   "source": [
    "There are some positive correlations between the number of votes, average rating, and the minutes. However, the correlation coefficient is a linear measure of assocation and it does not mean causation. We shall look at scatterplots. \n",
    "\n",
    "Matplotlib is the main visualisation package in Python and standard plots are directly implemented as methods of dataframes. Hence, you can call the `plot` method directly from a dataframe object. Here, we specify the plot type by `kind = 'scatter'`. We provide the x and y axes and the title of the plot."
   ]
  },
  {
   "cell_type": "code",
   "execution_count": 60,
   "id": "19408cf8",
   "metadata": {},
   "outputs": [
    {
     "data": {
      "text/plain": [
       "<AxesSubplot:title={'center':'rating vs #votes'}, xlabel='numVotes', ylabel='averageRating'>"
      ]
     },
     "execution_count": 60,
     "metadata": {},
     "output_type": "execute_result"
    },
    {
     "data": {
      "image/png": "[encoded data removed]",
      "text/plain": [
       "<Figure size 720x576 with 1 Axes>"
      ]
     },
     "metadata": {
      "needs_background": "light"
     },
     "output_type": "display_data"
    }
   ],
   "source": [
    "import matplotlib as mpl\n",
    "import matplotlib.pyplot as plt\n",
    "mpl.rc('axes', labelsize=14)\n",
    "mpl.rc('xtick', labelsize=12)\n",
    "mpl.rc('ytick', labelsize=12)\n",
    "\n",
    "# Scatter plot between numVotes and averageRating\n",
    "final_movies_df.plot(kind = 'scatter', x ='numVotes', y = 'averageRating', \n",
    "                     title ='rating vs #votes', figsize=(10,8))"
   ]
  },
  {
   "cell_type": "markdown",
   "id": "1a8be7de",
   "metadata": {},
   "source": [
    "We can see that the variation in averageRating decreases with numVotes, as expected since $SE(\\bar{x}) = \\frac{\\sigma}{\\sqrt{n}}$ if $n$ individual viewer ratings are independent (plausible) and randomly sampled. \n",
    "\n",
    "We shall now plot and inspect boxplots to see how ratings evolve over time. We can directly plot a boxplot using the `boxplot` method, specifying thecolumn for which to plot the boxplot. The optional argument `by = 'year'` specifies that we want to plot the boxplots separately for different values of the variable `year`."
   ]
  },
  {
   "cell_type": "code",
   "execution_count": 61,
   "id": "c5ac3ac8",
   "metadata": {},
   "outputs": [
    {
     "data": {
      "text/plain": [
       "<AxesSubplot:title={'center':'averageRating'}, xlabel='year'>"
      ]
     },
     "execution_count": 61,
     "metadata": {},
     "output_type": "execute_result"
    },
    {
     "data": {
      "image/png": "[encoded data removed]",
      "text/plain": [
       "<Figure size 720x576 with 1 Axes>"
      ]
     },
     "metadata": {
      "needs_background": "light"
     },
     "output_type": "display_data"
    }
   ],
   "source": [
    "# Create a box plot of averageRating by year\n",
    "final_movies_df.boxplot(column = 'averageRating', by = 'year', rot = 90, figsize=(10,8))"
   ]
  },
  {
   "cell_type": "markdown",
   "id": "92223bdf",
   "metadata": {},
   "source": [
    "The ratings look pretty stable over time.\n",
    "\n",
    "We shall finally look at the association between the genre and the movie rating. We must consider that each movie can belong to multiple genres. We first start by identifying the different genres. For this, we can use the `str` methods that we learned before. I copy some code below for this. Work on this on your own at home for practice."
   ]
  },
  {
   "cell_type": "code",
   "execution_count": 62,
   "id": "be1a91e1",
   "metadata": {},
   "outputs": [
    {
     "data": {
      "text/plain": [
       "{'Crime': 6.549925595238094,\n",
       " 'Documentary': 7.4206521739130435,\n",
       " 'Mystery': 6.270839064649243,\n",
       " 'Horror': 5.809305210918114,\n",
       " 'Musical': 6.591525423728815,\n",
       " 'Sport': 6.784353741496599,\n",
       " 'Animation': 6.758260869565217,\n",
       " 'Action': 6.3446458923512745,\n",
       " 'Music': 6.640873015873016,\n",
       " 'History': 6.982995951417004,\n",
       " 'Thriller': 6.252736750651607,\n",
       " 'Romance': 6.456709558823529,\n",
       " 'Comedy': 6.294851994851995,\n",
       " 'Sci-Fi': 6.148993288590604,\n",
       " 'War': 6.950458715596332,\n",
       " 'Family': 6.148062015503876,\n",
       " 'Adventure': 6.391889483065953,\n",
       " 'Fantasy': 6.142259414225942,\n",
       " 'News': 7.65,\n",
       " 'Biography': 7.0646408839779005,\n",
       " 'Western': 6.5451612903225795,\n",
       " 'Drama': 6.747116165718928}"
      ]
     },
     "execution_count": 62,
     "metadata": {},
     "output_type": "execute_result"
    }
   ],
   "source": [
    "# The cat method concatenates all entries in a column using the specified seperator (here ',')\n",
    "genres = final_movies_df[\"genres\"].str.cat(sep = ',') \n",
    "\n",
    "# This returns a long str of individual genres. To obtain a set of genres, we first\n",
    "# split from ',' to a list and then remove duplicates by the set() constructor\n",
    "genres = set(genres.split(','))\n",
    "\n",
    "# The following calculates the average of ratings for each genre in the list genres.\n",
    "# final_movies_df[\"genres\"].str.contains(genre) checks if each cell contains the genre being iterated\n",
    "# hence this will return a slice for the correct genre, for which we then extract\n",
    "# the \"averageRating\" column and take its mean\n",
    "avg_ratings = {genre: final_movies_df[final_movies_df[\"genres\"].str.contains(genre)][\"averageRating\"].mean() \n",
    "               for genre in genres}\n",
    "avg_ratings"
   ]
  }
 ],
 "metadata": {
  "kernelspec": {
   "display_name": "MLenv",
   "language": "python",
   "name": "mlenv"
  },
  "language_info": {
   "codemirror_mode": {
    "name": "ipython",
    "version": 3
   },
   "file_extension": ".py",
   "mimetype": "text/x-python",
   "name": "python",
   "nbconvert_exporter": "python",
   "pygments_lexer": "ipython3",
   "version": "3.9.7"
  }
 },
 "nbformat": 4,
 "nbformat_minor": 5
}
